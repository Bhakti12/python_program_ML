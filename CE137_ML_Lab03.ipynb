{
  "nbformat": 4,
  "nbformat_minor": 0,
  "metadata": {
    "colab": {
      "name": "CE131_ML_LAB3.ipynb",
      "provenance": []
    },
    "kernelspec": {
      "name": "python3",
      "display_name": "Python 3"
    },
    "language_info": {
      "name": "python"
    }
  },
  "cells": [
    {
      "cell_type": "markdown",
      "source": [
        "# **1. Naive Bayes Classifier Weather**"
      ],
      "metadata": {
        "id": "0KA40gi2r8wn"
      }
    },
    {
      "cell_type": "code",
      "execution_count": null,
      "metadata": {
        "id": "8BBjZUIENY13"
      },
      "outputs": [],
      "source": [
        "#Importing necessary library for Naive Bayes Classifier\n",
        "from sklearn import preprocessing\n",
        "from sklearn.naive_bayes import GaussianNB,MultinomialNB"
      ]
    },
    {
      "cell_type": "code",
      "source": [
        "#providing data to the machine i.e. Nomianl Attributes and Class Label\n",
        "weather = ['Sunny', 'Sunny', 'Overcast', 'Rainy', 'Rainy','Rainy', 'Overcast',\n",
        "'Sunny', 'Sunny', 'Rainy', 'Sunny', 'Overcast', 'Overcast', 'Rainy']\n",
        "\n",
        "temp = ['Hot','Hot','Hot','Mild','Cool','Cool','Cool','Mild',\n",
        "'Cool','Mild','Mild','Mild','Hot','Mild']\n",
        "\n",
        "play=['No','No','Yes','Yes','Yes','No','Yes','No','Yes',\n",
        "'Yes','Yes','Yes','Yes','No']"
      ],
      "metadata": {
        "id": "lLFqogJuONnr"
      },
      "execution_count": null,
      "outputs": []
    },
    {
      "cell_type": "code",
      "source": [
        "#Digitize the data set using encoding\n",
        "#creating label encoder\n",
        "le=preprocessing.LabelEncoder()\n",
        "\n",
        "#converting string labels into numbers\n",
        "weather_encoded=le.fit_transform(weather)\n",
        "print(\"Weather:\" ,weather_encoded)"
      ],
      "metadata": {
        "id": "o2NyGT02OtAa",
        "colab": {
          "base_uri": "https://localhost:8080/"
        },
        "outputId": "aed41626-0cfe-49b1-afa5-e5ed7d602908"
      },
      "execution_count": null,
      "outputs": [
        {
          "output_type": "stream",
          "name": "stdout",
          "text": [
            "Weather: [2 2 0 1 1 1 0 2 2 1 2 0 0 1]\n"
          ]
        }
      ]
    },
    {
      "cell_type": "code",
      "source": [
        "temp_encoded=le.fit_transform(temp)\n",
        "label=le.fit_transform(play)\n",
        "print(\"Temp:\",temp_encoded)\n",
        "print(\"Play:\",label)"
      ],
      "metadata": {
        "id": "URJnRbpPOSur",
        "colab": {
          "base_uri": "https://localhost:8080/"
        },
        "outputId": "8bfc36a7-244b-453b-c8af-835fa0eb70ef"
      },
      "execution_count": null,
      "outputs": [
        {
          "output_type": "stream",
          "name": "stdout",
          "text": [
            "Temp: [1 1 1 2 0 0 0 2 0 2 2 2 1 2]\n",
            "Play: [0 0 1 1 1 0 1 0 1 1 1 1 1 0]\n"
          ]
        }
      ]
    },
    {
      "cell_type": "code",
      "source": [
        "#Combinig weather and temp into single listof tuples\n",
        "features=tuple(zip(weather_encoded,temp_encoded))\n",
        "print(\"Features:\",features)"
      ],
      "metadata": {
        "colab": {
          "base_uri": "https://localhost:8080/"
        },
        "id": "TAABRSXOPuL1",
        "outputId": "bc4369ce-8209-41c6-f278-af5b8f39d75c"
      },
      "execution_count": null,
      "outputs": [
        {
          "output_type": "stream",
          "name": "stdout",
          "text": [
            "Features: ((2, 1), (2, 1), (0, 1), (1, 2), (1, 0), (1, 0), (0, 0), (2, 2), (2, 0), (1, 2), (2, 2), (0, 2), (0, 1), (1, 2))\n"
          ]
        }
      ]
    },
    {
      "cell_type": "code",
      "source": [
        "#Create a Classifier\n",
        "model=MultinomialNB()\n",
        "# Train the model using the training sets\n",
        "model.fit(features,label)"
      ],
      "metadata": {
        "colab": {
          "base_uri": "https://localhost:8080/"
        },
        "id": "7gj6kHa3P4Gd",
        "outputId": "1838e65c-3cb8-4ff3-993e-1e4b61223bf0"
      },
      "execution_count": null,
      "outputs": [
        {
          "output_type": "execute_result",
          "data": {
            "text/plain": [
              "MultinomialNB()"
            ]
          },
          "metadata": {},
          "execution_count": 7
        }
      ]
    },
    {
      "cell_type": "code",
      "source": [
        "#Predict Output\n",
        "predicted= model.predict([[0,2]]) # 0:Overcast, 2:Mild\n",
        "print(\"Predicted Value:\",format(predicted))"
      ],
      "metadata": {
        "colab": {
          "base_uri": "https://localhost:8080/"
        },
        "id": "dnLgcKk-P7rq",
        "outputId": "aa98ddc6-98c2-4263-8996-d6a5a6bd1e99"
      },
      "execution_count": null,
      "outputs": [
        {
          "output_type": "stream",
          "name": "stdout",
          "text": [
            "Predicted Value: [1]\n"
          ]
        }
      ]
    },
    {
      "cell_type": "code",
      "source": [
        "predicted= model.predict([[0,1]]) # 0:Overcast, 1:Hot\n",
        "print(\"Predicted Value:\", predicted)"
      ],
      "metadata": {
        "colab": {
          "base_uri": "https://localhost:8080/"
        },
        "id": "zbVB_2PyP_bS",
        "outputId": "ac21f8db-293a-4710-aad9-10750624c378"
      },
      "execution_count": null,
      "outputs": [
        {
          "output_type": "stream",
          "name": "stdout",
          "text": [
            "Predicted Value: [1]\n"
          ]
        }
      ]
    },
    {
      "cell_type": "code",
      "source": [
        "predicted= model.predict([[2,2]]) # 2:Sunny, 2:Mild\n",
        "print(\"Predicted Value:\", predicted)"
      ],
      "metadata": {
        "colab": {
          "base_uri": "https://localhost:8080/"
        },
        "id": "-d7Ibu8QQD0M",
        "outputId": "7cab437c-d273-45c9-d08b-8e3cc285e47e"
      },
      "execution_count": null,
      "outputs": [
        {
          "output_type": "stream",
          "name": "stdout",
          "text": [
            "Predicted Value: [1]\n"
          ]
        }
      ]
    },
    {
      "cell_type": "code",
      "source": [
        "predicted= model.predict([[2,2]]) # 2:Sunny, 2:Mild\n",
        "print(\"Predicted Value:\", predicted)"
      ],
      "metadata": {
        "colab": {
          "base_uri": "https://localhost:8080/"
        },
        "id": "GUEDLv2XQEux",
        "outputId": "7b5bbe65-e1ac-4b90-e0c7-5fd29cb978f3"
      },
      "execution_count": null,
      "outputs": [
        {
          "output_type": "stream",
          "name": "stdout",
          "text": [
            "Predicted Value: [1]\n"
          ]
        }
      ]
    },
    {
      "cell_type": "markdown",
      "source": [
        "# **2. NB Classifier Iris 2Classes**"
      ],
      "metadata": {
        "id": "QBp01HS6YBjz"
      }
    },
    {
      "cell_type": "code",
      "source": [
        "#Import scikit-learn dataset library\n",
        "import numpy as np\n",
        "from sklearn import datasets\n",
        "from sklearn.naive_bayes import GaussianNB\n",
        "#Load dataset\n",
        "iris = datasets.load_iris()"
      ],
      "metadata": {
        "id": "SGI8TnwrYF8q"
      },
      "execution_count": null,
      "outputs": []
    },
    {
      "cell_type": "code",
      "source": [
        "# print the names of the 13 features\n",
        "print(\"Features: \", iris.feature_names)\n",
        "# print the label type of wine(class_0, class_1, class_2)\n",
        "print(\"Labels: \", iris.target_names)\n",
        "# print data(feature)shape\n",
        "print(\"\\nData shape: \",iris.data.shape)\n",
        "#print data(target)shape\n",
        "print(\"\\nTraget shape: \",iris.target.shape)\n",
        "#print(\"\\nData: \",iris.data)\n",
        "#print(\"\\nTarget: \",iris.target)\n",
        "print(\"\\nData type: \",type(iris.data))\n",
        "newdata = iris.data[50:,:]\n",
        "newtarget = iris.target[50:]\n",
        "# print data(feature)shape\n",
        "print(\"\\nNew Data shape: \",newdata.shape)\n",
        "#print data(target)shape\n",
        "print(\"\\nNew Traget shape: \",newtarget.shape)"
      ],
      "metadata": {
        "colab": {
          "base_uri": "https://localhost:8080/"
        },
        "id": "EOPwWJjzYO7Q",
        "outputId": "3a8da41d-e388-4e31-8fa9-e7304aed85f6"
      },
      "execution_count": null,
      "outputs": [
        {
          "output_type": "stream",
          "name": "stdout",
          "text": [
            "Features:  ['sepal length (cm)', 'sepal width (cm)', 'petal length (cm)', 'petal width (cm)']\n",
            "Labels:  ['setosa' 'versicolor' 'virginica']\n",
            "\n",
            "Data shape:  (150, 4)\n",
            "\n",
            "Traget shape:  (150,)\n",
            "\n",
            "Data type:  <class 'numpy.ndarray'>\n",
            "\n",
            "New Data shape:  (100, 4)\n",
            "\n",
            "New Traget shape:  (100,)\n"
          ]
        }
      ]
    },
    {
      "cell_type": "code",
      "source": [
        "#import the necessary module\n",
        "from sklearn.model_selection import train_test_split\n",
        "#split data set into train and test sets\n",
        "data_train, data_test, target_train, target_test = train_test_split(newdata,\n",
        "newtarget, test_size = 0.30, random_state = 5)"
      ],
      "metadata": {
        "id": "L1YiVZgKYZ-p"
      },
      "execution_count": null,
      "outputs": []
    },
    {
      "cell_type": "code",
      "source": [
        "import numpy as np\n",
        "gnb = GaussianNB()\n",
        "#Train the model using the training sets\n",
        "gnb.fit(data_train, target_train)\n",
        "#Predict the response for test dataset\n",
        "target_pred = gnb.predict(data_test)"
      ],
      "metadata": {
        "id": "pWTPJA6wYrzZ"
      },
      "execution_count": null,
      "outputs": []
    },
    {
      "cell_type": "code",
      "source": [
        "#Import scikit-learn metrics module for accuracy calculation\n",
        "from sklearn import metrics\n",
        "# Model Accuracy, how often is the classifier correct?\n",
        "print(\"Accuracy:\",metrics.accuracy_score(target_test, target_pred))"
      ],
      "metadata": {
        "colab": {
          "base_uri": "https://localhost:8080/"
        },
        "id": "lUcafLASZE6I",
        "outputId": "ce871f61-6e63-4c97-dae2-8717fb7d929c"
      },
      "execution_count": null,
      "outputs": [
        {
          "output_type": "stream",
          "name": "stdout",
          "text": [
            "Accuracy: 0.9\n"
          ]
        }
      ]
    },
    {
      "cell_type": "code",
      "source": [
        "#Import confusion_matrix from scikit-learn metrics module for confusion_matrix\n",
        "from sklearn.metrics import confusion_matrix\n",
        "confusion_matrix(target_test, target_pred)"
      ],
      "metadata": {
        "colab": {
          "base_uri": "https://localhost:8080/"
        },
        "id": "W4xwhuXxZJL4",
        "outputId": "51563ec5-1569-43fd-adee-795f15e01a1a"
      },
      "execution_count": null,
      "outputs": [
        {
          "output_type": "execute_result",
          "data": {
            "text/plain": [
              "array([[16,  1],\n",
              "       [ 2, 11]])"
            ]
          },
          "metadata": {},
          "execution_count": 17
        }
      ]
    },
    {
      "cell_type": "code",
      "source": [
        "from sklearn.metrics import precision_score\n",
        "from sklearn.metrics import recall_score\n",
        "precision = precision_score(target_test, target_pred)\n",
        "recall = recall_score(target_test, target_pred)\n",
        "print('precision: {}'.format(precision))\n",
        "print('recall: {}'.format(recall))\n"
      ],
      "metadata": {
        "colab": {
          "base_uri": "https://localhost:8080/"
        },
        "id": "LUcFlpyHZMgI",
        "outputId": "ba01f8a4-d253-4db2-9086-8c3955ebf2e0"
      },
      "execution_count": null,
      "outputs": [
        {
          "output_type": "stream",
          "name": "stdout",
          "text": [
            "precision: 0.8888888888888888\n",
            "recall: 0.9411764705882353\n"
          ]
        }
      ]
    },
    {
      "cell_type": "markdown",
      "source": [
        "# **3. NB Classifier Iris 3Classes**"
      ],
      "metadata": {
        "id": "dgmQ01woPHhC"
      }
    },
    {
      "cell_type": "code",
      "source": [
        "#Import scikit-learn dataset library\n",
        "from sklearn import datasets\n",
        "from sklearn.naive_bayes import GaussianNB\n",
        "#Load dataset\n",
        "iris = datasets.load_iris()"
      ],
      "metadata": {
        "id": "8EFatYxLZRS5"
      },
      "execution_count": null,
      "outputs": []
    },
    {
      "cell_type": "code",
      "source": [
        "# print the names of the 13 features\n",
        "print(\"Features: \", iris.feature_names)\n",
        "# print the label type of wine(class_0, class_1, class_2)\n",
        "print(\"Labels: \", iris.target_names)\n",
        "# print data(feature)shape\n",
        "iris.data.shape"
      ],
      "metadata": {
        "colab": {
          "base_uri": "https://localhost:8080/"
        },
        "id": "AK3-LJUQZ-d4",
        "outputId": "2eef66a0-cc0d-4a40-be60-0d3de04f0f2c"
      },
      "execution_count": null,
      "outputs": [
        {
          "output_type": "stream",
          "name": "stdout",
          "text": [
            "Features:  ['sepal length (cm)', 'sepal width (cm)', 'petal length (cm)', 'petal width (cm)']\n",
            "Labels:  ['setosa' 'versicolor' 'virginica']\n"
          ]
        },
        {
          "output_type": "execute_result",
          "data": {
            "text/plain": [
              "(150, 4)"
            ]
          },
          "metadata": {},
          "execution_count": 20
        }
      ]
    },
    {
      "cell_type": "code",
      "source": [
        "#import the necessary module\n",
        "from sklearn.model_selection import train_test_split\n",
        "#split data set into train and test sets\n",
        "data_train, data_test, target_train, target_test = train_test_split(iris.data,\n",
        "iris.target, test_size = 0.30, random_state = 10)"
      ],
      "metadata": {
        "id": "V0rryZ1xaCmZ"
      },
      "execution_count": null,
      "outputs": []
    },
    {
      "cell_type": "code",
      "source": [
        "gnb = GaussianNB()\n",
        "#Train the model using the training sets\n",
        "gnb.fit(data_train, target_train)\n",
        "#Predict the response for test dataset\n",
        "target_pred = gnb.predict(data_test)"
      ],
      "metadata": {
        "id": "0Y8KtgRLaDa4"
      },
      "execution_count": null,
      "outputs": []
    },
    {
      "cell_type": "code",
      "source": [
        "#Import scikit-learn metrics module for accuracy calculation\n",
        "from sklearn import metrics\n",
        "# Model Accuracy, how often is the classifier correct?\n",
        "print(\"Accuracy:\",metrics.accuracy_score(target_test, target_pred))"
      ],
      "metadata": {
        "colab": {
          "base_uri": "https://localhost:8080/"
        },
        "id": "Lb7-h0rLab94",
        "outputId": "1843ab2c-9b17-4540-be75-8e4404061a67"
      },
      "execution_count": null,
      "outputs": [
        {
          "output_type": "stream",
          "name": "stdout",
          "text": [
            "Accuracy: 1.0\n"
          ]
        }
      ]
    },
    {
      "cell_type": "code",
      "source": [
        "#Import confusion_matrix from scikit-learn metrics module for confusion_matrix\n",
        "from sklearn.metrics import confusion_matrix\n",
        "confusion_matrix(target_test, target_pred)"
      ],
      "metadata": {
        "colab": {
          "base_uri": "https://localhost:8080/"
        },
        "id": "dprhOc3qankq",
        "outputId": "3e994981-dc7f-4745-ae57-9940f7a03e52"
      },
      "execution_count": null,
      "outputs": [
        {
          "output_type": "execute_result",
          "data": {
            "text/plain": [
              "array([[14,  0,  0],\n",
              "       [ 0, 17,  0],\n",
              "       [ 0,  0, 14]])"
            ]
          },
          "metadata": {},
          "execution_count": 24
        }
      ]
    },
    {
      "cell_type": "code",
      "source": [
        "from sklearn.metrics import precision_score\n",
        "from sklearn.metrics import recall_score\n",
        "precision = precision_score(target_test, target_pred, average=None)\n",
        "recall = recall_score(target_test, target_pred, average=None)\n",
        "print('precision: {}'.format(precision))\n",
        "print('recall: {}'.format(recall))"
      ],
      "metadata": {
        "colab": {
          "base_uri": "https://localhost:8080/"
        },
        "id": "3S07YdUvapJI",
        "outputId": "9d33ccf7-a78f-4fb5-ccf4-4251b57e4e59"
      },
      "execution_count": null,
      "outputs": [
        {
          "output_type": "stream",
          "name": "stdout",
          "text": [
            "precision: [1. 1. 1.]\n",
            "recall: [1. 1. 1.]\n"
          ]
        }
      ]
    },
    {
      "cell_type": "code",
      "source": [
        "from google.colab import drive\n",
        "drive.mount('/content/drive')"
      ],
      "metadata": {
        "colab": {
          "base_uri": "https://localhost:8080/"
        },
        "id": "2C3dyYLqdwOq",
        "outputId": "ce9c89db-8d32-48b1-ea29-e90b83984af4"
      },
      "execution_count": null,
      "outputs": [
        {
          "output_type": "stream",
          "name": "stdout",
          "text": [
            "Mounted at /content/drive\n"
          ]
        }
      ]
    },
    {
      "cell_type": "code",
      "source": [
        "import numpy as np\n",
        "import pandas as pd\n",
        "datasets=pd.read_csv('/content/drive/MyDrive/Lab_Files/Dataset3.csv')"
      ],
      "metadata": {
        "id": "D4csn8sveiSS"
      },
      "execution_count": null,
      "outputs": []
    },
    {
      "cell_type": "code",
      "source": [
        "from sklearn import datasets\n",
        "from sklearn.naive_bayes import GaussianNB\n",
        "\n",
        "iris = datasets.load_iris()"
      ],
      "metadata": {
        "id": "0TPb1-NDv4YV"
      },
      "execution_count": null,
      "outputs": []
    },
    {
      "cell_type": "code",
      "source": [
        "print(\"Features: \", iris.feature_names)\n",
        "\n",
        "print(\"Labels: \", iris.target_names)\n",
        "\n",
        "iris.data.shape"
      ],
      "metadata": {
        "colab": {
          "base_uri": "https://localhost:8080/"
        },
        "id": "3IgkxHtfv7Lt",
        "outputId": "4028b89e-95cf-444b-c34f-8359844c84ca"
      },
      "execution_count": null,
      "outputs": [
        {
          "output_type": "stream",
          "name": "stdout",
          "text": [
            "Features:  ['sepal length (cm)', 'sepal width (cm)', 'petal length (cm)', 'petal width (cm)']\n",
            "Labels:  ['setosa' 'versicolor' 'virginica']\n"
          ]
        },
        {
          "output_type": "execute_result",
          "data": {
            "text/plain": [
              "(150, 4)"
            ]
          },
          "metadata": {},
          "execution_count": 29
        }
      ]
    },
    {
      "cell_type": "markdown",
      "source": [
        "# **Prediction**"
      ],
      "metadata": {
        "id": "bBf7bGi-dp0r"
      }
    },
    {
      "cell_type": "code",
      "source": [
        "from sklearn import preprocessing\n",
        "from sklearn.naive_bayes import GaussianNB, MultinomialNB"
      ],
      "metadata": {
        "id": "7h1XLjBaesXf"
      },
      "execution_count": null,
      "outputs": []
    },
    {
      "cell_type": "code",
      "source": [
        "import numpy as np \n",
        "import pandas as pd\n",
        "\n",
        "\n",
        "# Step 2: Load Data\n",
        "        \n",
        "datasets = pd.read_csv('/content/drive/MyDrive/Lab_Files/Dataset1.csv') \n",
        "Humidity=datasets['Humidity']\n",
        "Outlook=datasets['Outlook']\n",
        "Play=datasets['Play']\n",
        "Temp=datasets['Temp']\n",
        "Wind=datasets['Wind']\n",
        "\n",
        "le = preprocessing.LabelEncoder()\n",
        "Humidity_encoded=le.fit_transform(Humidity)\n",
        "print(\"Humidity:\" ,Humidity_encoded)\n",
        "\n",
        "Outlook_encoded=le.fit_transform(Outlook)\n",
        "print(\"Outlook:\" ,Outlook_encoded)\n",
        "\n",
        "Play_encoded=le.fit_transform(Play)\n",
        "print(\"Play:\" ,Play_encoded)\n",
        "\n",
        "Temp_encoded=le.fit_transform(Temp)\n",
        "print(\"Temp:\" ,Temp_encoded)\n",
        "\n",
        "Wind_encoded=le.fit_transform(Wind)\n",
        "print(\"Wind:\" ,Wind_encoded)"
      ],
      "metadata": {
        "colab": {
          "base_uri": "https://localhost:8080/"
        },
        "id": "KEaafN1oveUW",
        "outputId": "f805d6d7-3207-4035-8263-516d90d9b4ea"
      },
      "execution_count": null,
      "outputs": [
        {
          "output_type": "stream",
          "name": "stdout",
          "text": [
            "Humidity: [2 0 2 2 2 1 2 2 1 0 0 1 2 2]\n",
            "Outlook: [1 1 0 2 2 2 0 1 1 2 1 0 0 2]\n",
            "Play: [0 0 1 1 1 0 1 0 1 1 1 1 1 0]\n",
            "Temp: [1 1 1 2 0 0 0 2 0 2 2 2 1 2]\n",
            "Wind: [0 1 0 0 0 1 1 0 0 0 1 1 0 1]\n"
          ]
        }
      ]
    },
    {
      "cell_type": "code",
      "source": [
        "features=tuple(zip(Humidity_encoded,Outlook_encoded,Temp_encoded,Wind_encoded))\n",
        "print(\"Features:\",features)"
      ],
      "metadata": {
        "colab": {
          "base_uri": "https://localhost:8080/"
        },
        "id": "FZ4aGpf3vsMR",
        "outputId": "7bed0292-522f-4346-a3f0-80285ad9d0ec"
      },
      "execution_count": null,
      "outputs": [
        {
          "output_type": "stream",
          "name": "stdout",
          "text": [
            "Features: ((2, 1, 1, 0), (0, 1, 1, 1), (2, 0, 1, 0), (2, 2, 2, 0), (2, 2, 0, 0), (1, 2, 0, 1), (2, 0, 0, 1), (2, 1, 2, 0), (1, 1, 0, 0), (0, 2, 2, 0), (0, 1, 2, 1), (1, 0, 2, 1), (2, 0, 1, 0), (2, 2, 2, 1))\n"
          ]
        }
      ]
    },
    {
      "cell_type": "code",
      "source": [
        "model=MultinomialNB()\n",
        "# Train the model using the training sets\n",
        "model.fit(features,Play)"
      ],
      "metadata": {
        "colab": {
          "base_uri": "https://localhost:8080/"
        },
        "id": "bxK9VBv-vpD2",
        "outputId": "d4bbc362-9dc4-483d-c314-690481fa5761"
      },
      "execution_count": null,
      "outputs": [
        {
          "output_type": "execute_result",
          "data": {
            "text/plain": [
              "MultinomialNB()"
            ]
          },
          "metadata": {},
          "execution_count": 33
        }
      ]
    },
    {
      "cell_type": "markdown",
      "source": [
        "#  Questions: \n",
        "**For Task - 1** \n",
        "\n",
        "**(1)** What will be the value of Play, if Outlook is ’Rainy’,Temperature is ’Mild’, Humidity =’Normal’, and Wind = ’False’? "
      ],
      "metadata": {
        "id": "Y8ODOrR0Z0mi"
      }
    },
    {
      "cell_type": "code",
      "source": [
        "predicted= model.predict([[2,1,2,0]])#[[HUMIDITY=2,OUTLOOK=1,TEMP=2,WIND=0]] \n",
        "print(\"Predicted Value:\", predicted) "
      ],
      "metadata": {
        "id": "o58uTu4-wLJt"
      },
      "execution_count": null,
      "outputs": []
    },
    {
      "cell_type": "markdown",
      "source": [
        "**(2)** What will be the value of Play, if Outlook is ’Sunny’, Temeprature is ’Cool’, Humidity =’High’,\n",
        "and Wind = ’True’?"
      ],
      "metadata": {
        "id": "jFjX5DBoweZO"
      }
    },
    {
      "cell_type": "code",
      "source": [
        "predicted1= model.predict([[0,2,0,1]])#[[HUMIDITY=0,OUTLOOK=2,TEMP=0,WIND=1]]\n",
        "print(\"Predicted Value:\", predicted1)"
      ],
      "metadata": {
        "id": "WB5tQX8lwPK-"
      },
      "execution_count": null,
      "outputs": []
    },
    {
      "cell_type": "markdown",
      "source": [
        "**(3)** Accuracy , precision and recall of both Models?"
      ],
      "metadata": {
        "id": "72es-VlkzHnc"
      }
    },
    {
      "cell_type": "code",
      "source": [
        "import numpy as np\n",
        "gnb = model\n",
        "\n",
        "gnb.fit(data_train, target_train)\n",
        "\n",
        "target_pred = gnb.predict(data_test)"
      ],
      "metadata": {
        "id": "12LtUe6CzKfB"
      },
      "execution_count": null,
      "outputs": []
    },
    {
      "cell_type": "code",
      "source": [
        "from sklearn import metrics\n",
        "\n",
        "print(\"Accuracy:\",metrics.accuracy_score(target_test, target_pred))"
      ],
      "metadata": {
        "id": "BxwEYn8axi4h"
      },
      "execution_count": null,
      "outputs": []
    },
    {
      "cell_type": "code",
      "source": [
        "from sklearn.metrics import confusion_matrix\n",
        "confusion_matrix(target_test, target_pred)"
      ],
      "metadata": {
        "id": "Ng48OifzxmcJ"
      },
      "execution_count": null,
      "outputs": []
    },
    {
      "cell_type": "code",
      "source": [
        "from sklearn.metrics import precision_score\n",
        "from sklearn.metrics import recall_score\n",
        "precision = precision_score(target_test, target_pred, average=None)\n",
        "recall = recall_score(target_test, target_pred, average=None)\n",
        "print('precision: {}'.format(precision))\n",
        "print('recall: {}'.format(recall))"
      ],
      "metadata": {
        "id": "amURwZv6xuik"
      },
      "execution_count": null,
      "outputs": []
    },
    {
      "cell_type": "markdown",
      "source": [
        "6) 126<=Rollnumber + All with No RollNumbers:\n",
        " \n",
        "**Task 1:** Try the algo on Dataset3 -\n",
        "LabelEncoding of features:and Train test Division 95%-5%\n",
        "\n",
        "**Task 2:** Apply algorithm on breast cancer wisconsin dataset - One Hot Encoding of features: and\n",
        "Train test Division 50%-50%"
      ],
      "metadata": {
        "id": "tM5YuA4n0Bic"
      }
    },
    {
      "cell_type": "code",
      "source": [
        "from sklearn.model_selection import train_test_split\n",
        "\n",
        "data_train, data_test, target_train, target_test = train_test_split(features, Play, test_size = 0.20, random_state =131)"
      ],
      "metadata": {
        "id": "Lm3HFbqGxvSn"
      },
      "execution_count": null,
      "outputs": []
    },
    {
      "cell_type": "code",
      "source": [
        "import numpy as np\n",
        "gnb = GaussianNB()\n",
        "\n",
        "gnb.fit(data_train, target_train)\n",
        "\n",
        "target_pred = gnb.predict(data_test)"
      ],
      "metadata": {
        "id": "MilhYD370i6b"
      },
      "execution_count": null,
      "outputs": []
    },
    {
      "cell_type": "code",
      "source": [
        "from sklearn import metrics\n",
        "\n",
        "print(\"Accuracy:\",metrics.accuracy_score(target_test, target_pred))"
      ],
      "metadata": {
        "id": "eBtBCk3r0ltq"
      },
      "execution_count": null,
      "outputs": []
    },
    {
      "cell_type": "code",
      "source": [
        "from sklearn.metrics import confusion_matrix\n",
        "confusion_matrix(target_test, target_pred)"
      ],
      "metadata": {
        "id": "QAfq-ka9GXTH"
      },
      "execution_count": null,
      "outputs": []
    },
    {
      "cell_type": "code",
      "source": [
        "from sklearn.metrics import precision_score\n",
        "from sklearn.metrics import recall_score\n",
        "\n",
        "precision = precision_score(target_test, target_pred, average=None)\n",
        "recall = recall_score(target_test, target_pred, average=None)\n",
        "\n",
        "print('precision:{}'.format(precision))\n",
        "print('recall:{}'.format(recall))"
      ],
      "metadata": {
        "id": "awoKhHkTGxcH"
      },
      "execution_count": null,
      "outputs": []
    }
  ]
}