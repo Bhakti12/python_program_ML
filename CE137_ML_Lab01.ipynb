{
  "nbformat": 4,
  "nbformat_minor": 0,
  "metadata": {
    "colab": {
      "name": "Lab1.ipynb",
      "provenance": []
    },
    "kernelspec": {
      "name": "python3",
      "display_name": "Python 3"
    },
    "language_info": {
      "name": "python"
    }
  },
  "cells": [
    {
      "cell_type": "code",
      "source": [
        "import numpy as np\n",
        "import pandas as pd\n",
        "import matplotlib.pyplot as plt\n",
        "from sklearn import datasets \n",
        "from sklearn import metrics  \n",
        "from sklearn.linear_model import LogisticRegression"
      ],
      "metadata": {
        "id": "n2OsAAW9fojh"
      },
      "execution_count": null,
      "outputs": []
    },
    {
      "cell_type": "markdown",
      "source": [
        "# **Numpy**"
      ],
      "metadata": {
        "id": "G84I8wTKQc4F"
      }
    },
    {
      "cell_type": "code",
      "source": [
        "from google.colab import drive\n",
        "drive.mount('/content/drive')"
      ],
      "metadata": {
        "colab": {
          "base_uri": "https://localhost:8080/"
        },
        "id": "KYqxHWvUhVeS",
        "outputId": "f2e3034b-1104-422f-d0dd-18f784e5bb90"
      },
      "execution_count": null,
      "outputs": [
        {
          "output_type": "stream",
          "name": "stdout",
          "text": [
            "Mounted at /content/drive\n"
          ]
        }
      ]
    },
    {
      "cell_type": "code",
      "execution_count": null,
      "metadata": {
        "colab": {
          "base_uri": "https://localhost:8080/"
        },
        "id": "YOMcCv5SDEB8",
        "outputId": "df63e0c2-c7cd-4949-a07f-2af140623ad4"
      },
      "outputs": [
        {
          "output_type": "execute_result",
          "data": {
            "text/plain": [
              "array([[ 0,  1,  2,  3,  4],\n",
              "       [ 5,  6,  7,  8,  9],\n",
              "       [10, 11, 12, 13, 14],\n",
              "       [15, 16, 17, 18, 19]])"
            ]
          },
          "metadata": {},
          "execution_count": 2
        }
      ],
      "source": [
        "#Create a Numpy array of size 4 x 5.\n",
        "import numpy as np\n",
        "\n",
        "arr = np.arange(20).reshape(4,5)\n",
        "arr"
      ]
    },
    {
      "cell_type": "code",
      "source": [
        "#Randomly initialize the array.\n",
        "import numpy as np\n",
        "\n",
        "arr = np.random.rand(9)\n",
        "arr"
      ],
      "metadata": {
        "colab": {
          "base_uri": "https://localhost:8080/"
        },
        "id": "tgia2lTkF22V",
        "outputId": "a0504360-c1d2-44c0-c8ca-64b218fd3f73"
      },
      "execution_count": null,
      "outputs": [
        {
          "output_type": "execute_result",
          "data": {
            "text/plain": [
              "array([0.49717286, 0.07947494, 0.75559656, 0.73205843, 0.88370651,\n",
              "       0.02544055, 0.47691734, 0.22804666, 0.80864642])"
            ]
          },
          "metadata": {},
          "execution_count": 4
        }
      ]
    },
    {
      "cell_type": "code",
      "source": [
        "#Get the Determinant and Transpose of the Matrix that you created.\n",
        "import numpy as np\n",
        "\n",
        "arr = np.array([[1,2],[2,3],[2,4]])\n",
        "print('original matrix')\n",
        "print(arr)\n",
        "print('transpose matrix')\n",
        "print(arr.T)"
      ],
      "metadata": {
        "colab": {
          "base_uri": "https://localhost:8080/"
        },
        "id": "BfylEa89GqoW",
        "outputId": "67f8c4e7-4be3-4652-d142-a013ac23fa54"
      },
      "execution_count": null,
      "outputs": [
        {
          "output_type": "stream",
          "name": "stdout",
          "text": [
            "original matrix\n",
            "[[1 2]\n",
            " [2 3]\n",
            " [2 4]]\n",
            "transpose matrix\n",
            "[[1 2 2]\n",
            " [2 3 4]]\n"
          ]
        }
      ]
    },
    {
      "cell_type": "code",
      "source": [
        "#Create another matrix of size 5 x 4 and randomly initialize it.\n",
        "import numpy as np\n",
        "\n",
        "array = np.random.randint(20, size=(5,4))\n",
        "print(array)"
      ],
      "metadata": {
        "colab": {
          "base_uri": "https://localhost:8080/"
        },
        "id": "yIJogyLUHwEz",
        "outputId": "fe3aa38f-970f-4187-bec8-fa3b9112618e"
      },
      "execution_count": null,
      "outputs": [
        {
          "output_type": "stream",
          "name": "stdout",
          "text": [
            "[[ 8 12  3 11]\n",
            " [ 3 15 16  7]\n",
            " [13 13 18 13]\n",
            " [11 16 16 15]\n",
            " [12 10  8 11]]\n"
          ]
        }
      ]
    },
    {
      "cell_type": "code",
      "source": [
        "#Perform Matrix multiplication.\n",
        "import numpy as np\n",
        "\n",
        "a1 = np.array([[1,4,7],[3,6,9]])\n",
        "a2 = np.array([[1,9],[2,9],[3,9]])\n",
        "ans = np.dot(a1,a2) \n",
        "print(m3) "
      ],
      "metadata": {
        "colab": {
          "base_uri": "https://localhost:8080/"
        },
        "id": "bDNo19nQLFGG",
        "outputId": "59df8088-d04d-41e7-c188-f9c83cf3ddd1"
      },
      "execution_count": null,
      "outputs": [
        {
          "output_type": "stream",
          "name": "stdout",
          "text": [
            "[[30 66]\n",
            " [36 81]]\n"
          ]
        }
      ]
    },
    {
      "cell_type": "code",
      "source": [
        "#Perform element wise matrix multiplication.\n",
        "import numpy as np\n",
        "\n",
        "a1 = np.array([[1,4,17],[3,6,9]])\n",
        "ans = a1 * a1\n",
        "print(ans)"
      ],
      "metadata": {
        "colab": {
          "base_uri": "https://localhost:8080/"
        },
        "id": "Ywt2KePPNTo-",
        "outputId": "35272b5a-48f0-4d0b-f40f-0c2a1f3bbb45"
      },
      "execution_count": null,
      "outputs": [
        {
          "output_type": "stream",
          "name": "stdout",
          "text": [
            "[[  1  16 289]\n",
            " [  9  36  81]]\n"
          ]
        }
      ]
    },
    {
      "cell_type": "code",
      "source": [
        "#Find mean, median of the numpy array created.\n",
        "import numpy as np\n",
        "\n",
        "m1 = np.mean(a1)\n",
        "m2 = np.median(a1)\n",
        "print(m1)\n",
        "print(m2)"
      ],
      "metadata": {
        "colab": {
          "base_uri": "https://localhost:8080/"
        },
        "id": "kv4nebefOi80",
        "outputId": "e0f971aa-207c-4916-e373-545387543593"
      },
      "execution_count": null,
      "outputs": [
        {
          "output_type": "stream",
          "name": "stdout",
          "text": [
            "6.666666666666667\n",
            "5.0\n"
          ]
        }
      ]
    },
    {
      "cell_type": "code",
      "source": [
        "#Obtain each row in the second column of the first array.\n",
        "\n",
        "import numpy as np\n",
        "arr = np.array([[1, 2, 3],\n",
        "              [4, 5, 6]])\n",
        "\n",
        "\n",
        "print(arr[0: ,1])\n"
      ],
      "metadata": {
        "id": "8EvWa-gLQILG",
        "colab": {
          "base_uri": "https://localhost:8080/"
        },
        "outputId": "d601ffbb-2967-4555-b818-1496962f41f1"
      },
      "execution_count": null,
      "outputs": [
        {
          "output_type": "stream",
          "name": "stdout",
          "text": [
            "[2 5]\n"
          ]
        }
      ]
    },
    {
      "cell_type": "code",
      "source": [
        "#Convert Numeric entries(columns) of Iris.csv to Mean Centered Version\n",
        "\n",
        "import pandas as pd \n",
        "data=pd.read_csv('/content/drive/MyDrive/IRIS.csv')\n",
        "arr= np.array(data)\n",
        "iris_array=np.array([arr[:,0],arr[:,1],arr[:,2]])\n",
        "iris_centered=iris_array - np.mean(iris_array,axis=0)\n",
        "print(iris_centered)"
      ],
      "metadata": {
        "id": "8Z6F6rUIQLhF",
        "colab": {
          "base_uri": "https://localhost:8080/"
        },
        "outputId": "883b3bfc-eecc-431c-d73e-acde72db2d59"
      },
      "execution_count": null,
      "outputs": [
        {
          "output_type": "stream",
          "name": "stdout",
          "text": [
            "[[-2.1999999999999997 -1.3000000000000003 -0.6333333333333333\n",
            "  0.10000000000000009 0.4666666666666668 0.8999999999999995 2.0\n",
            "  2.533333333333334 3.5666666666666664 4.0 4.300000000000001\n",
            "  5.266666666666667 6.066666666666666 6.8999999999999995\n",
            "  6.7333333333333325 7.299999999999999 8.233333333333334\n",
            "  9.133333333333333 9.5 10.366666666666665 11.066666666666668\n",
            "  11.733333333333333 12.6 13.200000000000001 13.933333333333332\n",
            "  14.666666666666666 15.200000000000001 15.766666666666666\n",
            "  16.46666666666667 17.366666666666667 18.03333333333333 18.4 18.9\n",
            "  19.43333333333333 20.666666666666664 21.266666666666666\n",
            "  21.666666666666664 22.666666666666664 23.53333333333333\n",
            "  23.833333333333332 24.5 25.733333333333334 26.133333333333333 26.5\n",
            "  27.033333333333335 28.066666666666666 28.366666666666667 29.4\n",
            "  29.666666666666668 30.566666666666666 30.599999999999998\n",
            "  31.466666666666665 32.0 33.400000000000006 33.56666666666666 34.5 34.8\n",
            "  36.233333333333334 36.16666666666667 37.36666666666666\n",
            "  38.33333333333333 38.36666666666666 39.266666666666666\n",
            "  39.66666666666667 40.5 40.733333333333334 41.8 42.5 43.2\n",
            "  43.96666666666667 44.3 45.03333333333333 45.733333333333334\n",
            "  46.366666666666674 46.89999999999999 47.46666666666667\n",
            "  48.13333333333334 48.766666666666666 49.7 50.56666666666666\n",
            "  51.36666666666666 52.03333333333333 52.5 53.099999999999994\n",
            "  53.86666666666666 54.2 54.733333333333334 55.800000000000004\n",
            "  56.46666666666667 57.333333333333336 57.96666666666667\n",
            "  58.300000000000004 59.2 60.233333333333334 60.56666666666667 61.1 61.8\n",
            "  62.3 63.46666666666667 63.833333333333336 64.13333333333333\n",
            "  65.16666666666666 65.30000000000001 66.26666666666667 66.83333333333334\n",
            "  67.13333333333333 68.86666666666667 68.6 69.6 69.73333333333333\n",
            "  70.76666666666667 71.63333333333333 72.06666666666666 73.26666666666667\n",
            "  73.80000000000001 74.13333333333333 74.83333333333334 74.83333333333334\n",
            "  75.9 77.26666666666668 77.30000000000001 78.53333333333333 78.5\n",
            "  79.66666666666666 80.0 80.53333333333333 81.66666666666666\n",
            "  82.30000000000001 82.93333333333334 83.26666666666668 83.93333333333334\n",
            "  84.1 85.6 86.29999999999998 87.1 87.1 88.1 88.83333333333334\n",
            "  89.66666666666666 90.0 90.73333333333335 91.33333333333334 92.5\n",
            "  92.66666666666666 93.33333333333334 94.1 95.06666666666666 95.5\n",
            "  96.13333333333333 97.03333333333333]\n",
            " [1.9 1.6 1.0666666666666669 0.6999999999999997 0.4666666666666668\n",
            "  0.2999999999999998 -0.40000000000000036 -0.4666666666666659\n",
            "  -1.0333333333333332 -1.0999999999999996 -1.299999999999999\n",
            "  -1.9333333333333336 -2.1333333333333337 -2.8000000000000007\n",
            "  -2.4666666666666677 -3.000000000000001 -3.3666666666666654\n",
            "  -3.7666666666666675 -3.8 -4.533333333333335 -4.533333333333331\n",
            "  -5.166666666666668 -5.800000000000001 -5.699999999999999\n",
            "  -6.266666666666668 -6.333333333333334 -6.799999999999999\n",
            "  -7.033333333333334 -7.333333333333333 -7.9333333333333345\n",
            "  -8.166666666666668 -8.2 -8.900000000000002 -9.066666666666668\n",
            "  -9.433333333333334 -9.733333333333334 -9.833333333333334\n",
            "  -10.433333333333334 -11.066666666666666 -11.066666666666668 -11.5\n",
            "  -11.766666666666666 -12.466666666666667 -12.5 -12.866666666666665\n",
            "  -13.133333333333333 -13.533333333333333 -14.000000000000002\n",
            "  -14.033333333333331 -14.433333333333334 -13.400000000000002\n",
            "  -14.133333333333335 -14.1 -15.099999999999998 -14.933333333333334 -15.8\n",
            "  -15.899999999999999 -16.866666666666667 -16.233333333333334\n",
            "  -17.433333333333337 -17.666666666666668 -17.733333333333334\n",
            "  -17.733333333333334 -18.233333333333334 -18.9 -18.566666666666666 -19.6\n",
            "  -19.7 -19.6 -20.43333333333333 -20.800000000000004 -20.866666666666667\n",
            "  -20.966666666666665 -21.53333333333333 -21.700000000000003\n",
            "  -21.93333333333333 -22.066666666666663 -22.533333333333335 -23.3\n",
            "  -23.733333333333334 -24.133333333333336 -24.46666666666667 -24.7\n",
            "  -24.900000000000002 -25.733333333333334 -25.8 -25.566666666666666\n",
            "  -25.899999999999995 -26.93333333333333 -27.166666666666664\n",
            "  -27.53333333333333 -27.599999999999994 -27.999999999999996\n",
            "  -28.766666666666666 -28.83333333333333 -29.2 -29.500000000000004\n",
            "  -29.500000000000004 -30.43333333333333 -30.466666666666665\n",
            "  -30.566666666666666 -31.033333333333335 -30.599999999999994\n",
            "  -31.433333333333334 -31.666666666666664 -31.266666666666666\n",
            "  -33.233333333333334 -32.1 -32.699999999999996 -33.06666666666666\n",
            "  -33.733333333333334 -33.96666666666667 -34.13333333333333\n",
            "  -35.03333333333333 -35.4 -35.46666666666667 -35.666666666666664\n",
            "  -35.46666666666666 -35.4 -36.73333333333333 -36.8 -37.86666666666667\n",
            "  -36.8 -38.03333333333334 -38.3 -38.26666666666666 -39.13333333333333\n",
            "  -39.599999999999994 -39.66666666666667 -39.533333333333324\n",
            "  -39.66666666666667 -40.00000000000001 -41.00000000000001\n",
            "  -41.40000000000001 -41.8 -41.199999999999996 -42.60000000000001\n",
            "  -42.766666666666666 -43.333333333333336 -43.1 -43.566666666666656\n",
            "  -43.766666666666666 -44.7 -44.53333333333334 -44.96666666666666\n",
            "  -45.199999999999996 -45.63333333333334 -46.0 -46.666666666666664\n",
            "  -47.06666666666667]\n",
            " [0.30000000000000027 -0.30000000000000027 -0.4333333333333331\n",
            "  -0.7999999999999998 -0.9333333333333331 -1.2000000000000006 -1.6\n",
            "  -2.066666666666666 -2.5333333333333337 -2.9 -2.999999999999999\n",
            "  -3.3333333333333335 -3.9333333333333336 -4.1000000000000005\n",
            "  -4.2666666666666675 -4.300000000000001 -4.866666666666665\n",
            "  -5.366666666666667 -5.7 -5.833333333333335 -6.533333333333331\n",
            "  -6.566666666666667 -6.800000000000001 -7.499999999999999\n",
            "  -7.666666666666668 -8.333333333333334 -8.399999999999999\n",
            "  -8.733333333333334 -9.133333333333333 -9.433333333333334\n",
            "  -9.866666666666667 -10.2 -10.000000000000002 -10.366666666666667\n",
            "  -11.233333333333334 -11.533333333333335 -11.833333333333334\n",
            "  -12.233333333333334 -12.466666666666667 -12.766666666666667 -13.0\n",
            "  -13.966666666666665 -13.666666666666668 -14.0 -14.166666666666664\n",
            "  -14.933333333333334 -14.833333333333332 -15.400000000000002\n",
            "  -15.633333333333333 -16.133333333333333 -17.200000000000003\n",
            "  -17.333333333333336 -17.9 -18.299999999999997 -18.633333333333333 -18.7\n",
            "  -18.9 -19.366666666666667 -19.933333333333334 -19.933333333333337\n",
            "  -20.666666666666668 -20.633333333333336 -21.533333333333335\n",
            "  -21.433333333333334 -21.6 -22.166666666666664 -22.2 -22.8 -23.6\n",
            "  -23.53333333333333 -23.500000000000004 -24.166666666666664\n",
            "  -24.766666666666666 -24.83333333333333 -25.200000000000006\n",
            "  -25.53333333333333 -26.066666666666663 -26.233333333333334\n",
            "  -26.400000000000002 -26.833333333333332 -27.233333333333338\n",
            "  -27.56666666666667 -27.8 -28.200000000000003 -28.133333333333336\n",
            "  -28.400000000000002 -29.166666666666664 -29.899999999999995\n",
            "  -29.53333333333333 -30.166666666666664 -30.43333333333333\n",
            "  -30.699999999999996 -31.199999999999996 -31.466666666666665\n",
            "  -31.73333333333333 -31.9 -32.300000000000004 -32.800000000000004\n",
            "  -33.03333333333333 -33.36666666666667 -33.56666666666667\n",
            "  -34.13333333333333 -34.699999999999996 -34.833333333333336\n",
            "  -35.166666666666664 -35.86666666666667 -35.63333333333333 -36.5 -36.9\n",
            "  -36.666666666666664 -37.03333333333333 -37.666666666666664\n",
            "  -37.93333333333333 -38.233333333333334 -38.4 -38.666666666666664\n",
            "  -39.166666666666664 -39.36666666666667 -40.5 -40.533333333333324\n",
            "  -40.49999999999999 -40.66666666666667 -41.7 -41.63333333333333 -41.7\n",
            "  -42.26666666666666 -42.53333333333334 -42.699999999999996\n",
            "  -43.26666666666667 -43.73333333333333 -44.26666666666667\n",
            "  -44.10000000000001 -44.60000000000001 -44.90000000000001 -45.3 -45.9\n",
            "  -45.50000000000001 -46.06666666666666 -46.333333333333336 -46.9\n",
            "  -47.16666666666666 -47.56666666666666 -47.8 -48.13333333333333\n",
            "  -48.36666666666667 -48.9 -49.43333333333334 -49.5 -49.46666666666667\n",
            "  -49.96666666666667]]\n"
          ]
        }
      ]
    },
    {
      "cell_type": "code",
      "source": [
        "#Study about numpy array attributes and implement it on the first matrix.\n",
        "a = np.array([[1, 2, 3],\n",
        "              [4, 5, 6]])\n",
        "\n",
        "print(\"Shape : \",a.shape)\n",
        "print(\"-------------------------\")\n",
        "a.shape = (3,2) \n",
        "print(a) \n",
        "print(\"-------------------------\")\n",
        "a = np.arange(24) \n",
        "a.ndim  \n",
        "print(a)\n",
        "print(\"-------------------------\")\n",
        "print(\"DataType : \",a.dtype)\n",
        "print(\"-------------------------\")\n",
        "print(\"ItemSize : \",a.itemsize)\n",
        "print(\"-------------------------\")\n",
        "a = np.array([[1, 2, 3],\n",
        "              [4, 5, 6]])\n",
        "print(a.T)"
      ],
      "metadata": {
        "id": "4Uc1Ti50QQQ1",
        "colab": {
          "base_uri": "https://localhost:8080/"
        },
        "outputId": "6ad4f1ae-986a-4029-db47-d3cc16e83625"
      },
      "execution_count": null,
      "outputs": [
        {
          "output_type": "stream",
          "name": "stdout",
          "text": [
            "Shape :  (2, 3)\n",
            "-------------------------\n",
            "[[1 2]\n",
            " [3 4]\n",
            " [5 6]]\n",
            "-------------------------\n",
            "[ 0  1  2  3  4  5  6  7  8  9 10 11 12 13 14 15 16 17 18 19 20 21 22 23]\n",
            "-------------------------\n",
            "DataType :  int64\n",
            "-------------------------\n",
            "ItemSize :  8\n",
            "-------------------------\n",
            "[[1 4]\n",
            " [2 5]\n",
            " [3 6]]\n"
          ]
        }
      ]
    },
    {
      "cell_type": "markdown",
      "source": [
        "# **Pandas**"
      ],
      "metadata": {
        "id": "iLl_2P-HQlsV"
      }
    },
    {
      "cell_type": "code",
      "source": [
        "#1 \n",
        "import pandas as pd\n",
        "iris_url='https://raw.githubusercontent.com/Mrkk108/ML/main/Iris.csv';\n",
        "mtcars_url='https://raw.githubusercontent.com/Mrkk108/ML/main/mtcars.csv'\n",
        "data=pd.read_csv(iris_url)\n",
        "plt.scatter(data['SepalLengthCm'],data['PetalWidthCm'])"
      ],
      "metadata": {
        "colab": {
          "base_uri": "https://localhost:8080/",
          "height": 283
        },
        "id": "Ypb7qFCLzjNy",
        "outputId": "43ab1a27-fc5b-4271-ae0b-e5edde0cea88"
      },
      "execution_count": 5,
      "outputs": [
        {
          "output_type": "execute_result",
          "data": {
            "text/plain": [
              "<matplotlib.collections.PathCollection at 0x7f2084bc6350>"
            ]
          },
          "metadata": {},
          "execution_count": 5
        },
        {
          "output_type": "display_data",
          "data": {
            "image/png": "[encoded data removed]",
            "text/plain": [
              "<Figure size 432x288 with 1 Axes>"
            ]
          },
          "metadata": {
            "needs_background": "light"
          }
        }
      ]
    },
    {
      "cell_type": "code",
      "source": [
        "data.head()"
      ],
      "metadata": {
        "colab": {
          "base_uri": "https://localhost:8080/",
          "height": 206
        },
        "id": "Ov_s2qBWzmNG",
        "outputId": "3d7ba6fb-3a3d-4fad-df13-075472b496c3"
      },
      "execution_count": null,
      "outputs": [
        {
          "output_type": "execute_result",
          "data": {
            "text/html": [
              "<div>\n",
              "<style scoped>\n",
              "    .dataframe tbody tr th:only-of-type {\n",
              "        vertical-align: middle;\n",
              "    }\n",
              "\n",
              "    .dataframe tbody tr th {\n",
              "        vertical-align: top;\n",
              "    }\n",
              "\n",
              "    .dataframe thead th {\n",
              "        text-align: right;\n",
              "    }\n",
              "</style>\n",
              "<table border=\"1\" class=\"dataframe\">\n",
              "  <thead>\n",
              "    <tr style=\"text-align: right;\">\n",
              "      <th></th>\n",
              "      <th>Id</th>\n",
              "      <th>SepalLengthCm</th>\n",
              "      <th>SepalWidthCm</th>\n",
              "      <th>PetalLengthCm</th>\n",
              "      <th>PetalWidthCm</th>\n",
              "      <th>Species</th>\n",
              "    </tr>\n",
              "  </thead>\n",
              "  <tbody>\n",
              "    <tr>\n",
              "      <th>0</th>\n",
              "      <td>1</td>\n",
              "      <td>5.1</td>\n",
              "      <td>3.5</td>\n",
              "      <td>1.4</td>\n",
              "      <td>0.2</td>\n",
              "      <td>Iris-setosa</td>\n",
              "    </tr>\n",
              "    <tr>\n",
              "      <th>1</th>\n",
              "      <td>2</td>\n",
              "      <td>4.9</td>\n",
              "      <td>3.0</td>\n",
              "      <td>1.4</td>\n",
              "      <td>0.2</td>\n",
              "      <td>Iris-setosa</td>\n",
              "    </tr>\n",
              "    <tr>\n",
              "      <th>2</th>\n",
              "      <td>3</td>\n",
              "      <td>4.7</td>\n",
              "      <td>3.2</td>\n",
              "      <td>1.3</td>\n",
              "      <td>0.2</td>\n",
              "      <td>Iris-setosa</td>\n",
              "    </tr>\n",
              "    <tr>\n",
              "      <th>3</th>\n",
              "      <td>4</td>\n",
              "      <td>4.6</td>\n",
              "      <td>3.1</td>\n",
              "      <td>1.5</td>\n",
              "      <td>0.2</td>\n",
              "      <td>Iris-setosa</td>\n",
              "    </tr>\n",
              "    <tr>\n",
              "      <th>4</th>\n",
              "      <td>5</td>\n",
              "      <td>5.0</td>\n",
              "      <td>3.6</td>\n",
              "      <td>1.4</td>\n",
              "      <td>0.2</td>\n",
              "      <td>Iris-setosa</td>\n",
              "    </tr>\n",
              "  </tbody>\n",
              "</table>\n",
              "</div>"
            ],
            "text/plain": [
              "   Id  SepalLengthCm  SepalWidthCm  PetalLengthCm  PetalWidthCm      Species\n",
              "0   1            5.1           3.5            1.4           0.2  Iris-setosa\n",
              "1   2            4.9           3.0            1.4           0.2  Iris-setosa\n",
              "2   3            4.7           3.2            1.3           0.2  Iris-setosa\n",
              "3   4            4.6           3.1            1.5           0.2  Iris-setosa\n",
              "4   5            5.0           3.6            1.4           0.2  Iris-setosa"
            ]
          },
          "metadata": {},
          "execution_count": 23
        }
      ]
    },
    {
      "cell_type": "code",
      "source": [
        "data.tail()"
      ],
      "metadata": {
        "colab": {
          "base_uri": "https://localhost:8080/",
          "height": 206
        },
        "id": "RCjPxUkozq36",
        "outputId": "b3457645-47d7-4de0-b2de-c434ceb6d8ef"
      },
      "execution_count": null,
      "outputs": [
        {
          "output_type": "execute_result",
          "data": {
            "text/html": [
              "<div>\n",
              "<style scoped>\n",
              "    .dataframe tbody tr th:only-of-type {\n",
              "        vertical-align: middle;\n",
              "    }\n",
              "\n",
              "    .dataframe tbody tr th {\n",
              "        vertical-align: top;\n",
              "    }\n",
              "\n",
              "    .dataframe thead th {\n",
              "        text-align: right;\n",
              "    }\n",
              "</style>\n",
              "<table border=\"1\" class=\"dataframe\">\n",
              "  <thead>\n",
              "    <tr style=\"text-align: right;\">\n",
              "      <th></th>\n",
              "      <th>Id</th>\n",
              "      <th>SepalLengthCm</th>\n",
              "      <th>SepalWidthCm</th>\n",
              "      <th>PetalLengthCm</th>\n",
              "      <th>PetalWidthCm</th>\n",
              "      <th>Species</th>\n",
              "    </tr>\n",
              "  </thead>\n",
              "  <tbody>\n",
              "    <tr>\n",
              "      <th>145</th>\n",
              "      <td>146</td>\n",
              "      <td>6.7</td>\n",
              "      <td>3.0</td>\n",
              "      <td>5.2</td>\n",
              "      <td>2.3</td>\n",
              "      <td>Iris-virginica</td>\n",
              "    </tr>\n",
              "    <tr>\n",
              "      <th>146</th>\n",
              "      <td>147</td>\n",
              "      <td>6.3</td>\n",
              "      <td>2.5</td>\n",
              "      <td>5.0</td>\n",
              "      <td>1.9</td>\n",
              "      <td>Iris-virginica</td>\n",
              "    </tr>\n",
              "    <tr>\n",
              "      <th>147</th>\n",
              "      <td>148</td>\n",
              "      <td>6.5</td>\n",
              "      <td>3.0</td>\n",
              "      <td>5.2</td>\n",
              "      <td>2.0</td>\n",
              "      <td>Iris-virginica</td>\n",
              "    </tr>\n",
              "    <tr>\n",
              "      <th>148</th>\n",
              "      <td>149</td>\n",
              "      <td>6.2</td>\n",
              "      <td>3.4</td>\n",
              "      <td>5.4</td>\n",
              "      <td>2.3</td>\n",
              "      <td>Iris-virginica</td>\n",
              "    </tr>\n",
              "    <tr>\n",
              "      <th>149</th>\n",
              "      <td>150</td>\n",
              "      <td>5.9</td>\n",
              "      <td>3.0</td>\n",
              "      <td>5.1</td>\n",
              "      <td>1.8</td>\n",
              "      <td>Iris-virginica</td>\n",
              "    </tr>\n",
              "  </tbody>\n",
              "</table>\n",
              "</div>"
            ],
            "text/plain": [
              "      Id  SepalLengthCm  ...  PetalWidthCm         Species\n",
              "145  146            6.7  ...           2.3  Iris-virginica\n",
              "146  147            6.3  ...           1.9  Iris-virginica\n",
              "147  148            6.5  ...           2.0  Iris-virginica\n",
              "148  149            6.2  ...           2.3  Iris-virginica\n",
              "149  150            5.9  ...           1.8  Iris-virginica\n",
              "\n",
              "[5 rows x 6 columns]"
            ]
          },
          "metadata": {},
          "execution_count": 24
        }
      ]
    },
    {
      "cell_type": "code",
      "source": [
        "data.describe()"
      ],
      "metadata": {
        "colab": {
          "base_uri": "https://localhost:8080/",
          "height": 300
        },
        "id": "Hntqn2kFzvGl",
        "outputId": "23f2708b-7c85-443d-fd3f-9c0fd838b7cd"
      },
      "execution_count": null,
      "outputs": [
        {
          "output_type": "execute_result",
          "data": {
            "text/html": [
              "<div>\n",
              "<style scoped>\n",
              "    .dataframe tbody tr th:only-of-type {\n",
              "        vertical-align: middle;\n",
              "    }\n",
              "\n",
              "    .dataframe tbody tr th {\n",
              "        vertical-align: top;\n",
              "    }\n",
              "\n",
              "    .dataframe thead th {\n",
              "        text-align: right;\n",
              "    }\n",
              "</style>\n",
              "<table border=\"1\" class=\"dataframe\">\n",
              "  <thead>\n",
              "    <tr style=\"text-align: right;\">\n",
              "      <th></th>\n",
              "      <th>Id</th>\n",
              "      <th>SepalLengthCm</th>\n",
              "      <th>SepalWidthCm</th>\n",
              "      <th>PetalLengthCm</th>\n",
              "      <th>PetalWidthCm</th>\n",
              "    </tr>\n",
              "  </thead>\n",
              "  <tbody>\n",
              "    <tr>\n",
              "      <th>count</th>\n",
              "      <td>150.000000</td>\n",
              "      <td>150.000000</td>\n",
              "      <td>150.000000</td>\n",
              "      <td>150.000000</td>\n",
              "      <td>150.000000</td>\n",
              "    </tr>\n",
              "    <tr>\n",
              "      <th>mean</th>\n",
              "      <td>75.500000</td>\n",
              "      <td>5.843333</td>\n",
              "      <td>3.054000</td>\n",
              "      <td>3.758667</td>\n",
              "      <td>1.198667</td>\n",
              "    </tr>\n",
              "    <tr>\n",
              "      <th>std</th>\n",
              "      <td>43.445368</td>\n",
              "      <td>0.828066</td>\n",
              "      <td>0.433594</td>\n",
              "      <td>1.764420</td>\n",
              "      <td>0.763161</td>\n",
              "    </tr>\n",
              "    <tr>\n",
              "      <th>min</th>\n",
              "      <td>1.000000</td>\n",
              "      <td>4.300000</td>\n",
              "      <td>2.000000</td>\n",
              "      <td>1.000000</td>\n",
              "      <td>0.100000</td>\n",
              "    </tr>\n",
              "    <tr>\n",
              "      <th>25%</th>\n",
              "      <td>38.250000</td>\n",
              "      <td>5.100000</td>\n",
              "      <td>2.800000</td>\n",
              "      <td>1.600000</td>\n",
              "      <td>0.300000</td>\n",
              "    </tr>\n",
              "    <tr>\n",
              "      <th>50%</th>\n",
              "      <td>75.500000</td>\n",
              "      <td>5.800000</td>\n",
              "      <td>3.000000</td>\n",
              "      <td>4.350000</td>\n",
              "      <td>1.300000</td>\n",
              "    </tr>\n",
              "    <tr>\n",
              "      <th>75%</th>\n",
              "      <td>112.750000</td>\n",
              "      <td>6.400000</td>\n",
              "      <td>3.300000</td>\n",
              "      <td>5.100000</td>\n",
              "      <td>1.800000</td>\n",
              "    </tr>\n",
              "    <tr>\n",
              "      <th>max</th>\n",
              "      <td>150.000000</td>\n",
              "      <td>7.900000</td>\n",
              "      <td>4.400000</td>\n",
              "      <td>6.900000</td>\n",
              "      <td>2.500000</td>\n",
              "    </tr>\n",
              "  </tbody>\n",
              "</table>\n",
              "</div>"
            ],
            "text/plain": [
              "               Id  SepalLengthCm  SepalWidthCm  PetalLengthCm  PetalWidthCm\n",
              "count  150.000000     150.000000    150.000000     150.000000    150.000000\n",
              "mean    75.500000       5.843333      3.054000       3.758667      1.198667\n",
              "std     43.445368       0.828066      0.433594       1.764420      0.763161\n",
              "min      1.000000       4.300000      2.000000       1.000000      0.100000\n",
              "25%     38.250000       5.100000      2.800000       1.600000      0.300000\n",
              "50%     75.500000       5.800000      3.000000       4.350000      1.300000\n",
              "75%    112.750000       6.400000      3.300000       5.100000      1.800000\n",
              "max    150.000000       7.900000      4.400000       6.900000      2.500000"
            ]
          },
          "metadata": {},
          "execution_count": 25
        }
      ]
    },
    {
      "cell_type": "code",
      "source": [
        "data.info()"
      ],
      "metadata": {
        "colab": {
          "base_uri": "https://localhost:8080/"
        },
        "id": "6GRF3Po9zzK-",
        "outputId": "3053c942-fcd2-4bcf-f5ac-d796d169473a"
      },
      "execution_count": null,
      "outputs": [
        {
          "output_type": "stream",
          "name": "stdout",
          "text": [
            "<class 'pandas.core.frame.DataFrame'>\n",
            "RangeIndex: 150 entries, 0 to 149\n",
            "Data columns (total 6 columns):\n",
            " #   Column         Non-Null Count  Dtype  \n",
            "---  ------         --------------  -----  \n",
            " 0   Id             150 non-null    int64  \n",
            " 1   SepalLengthCm  150 non-null    float64\n",
            " 2   SepalWidthCm   150 non-null    float64\n",
            " 3   PetalLengthCm  150 non-null    float64\n",
            " 4   PetalWidthCm   150 non-null    float64\n",
            " 5   Species        150 non-null    object \n",
            "dtypes: float64(4), int64(1), object(1)\n",
            "memory usage: 7.2+ KB\n"
          ]
        }
      ]
    },
    {
      "cell_type": "code",
      "source": [
        "#Count Total Null values in each column\n",
        "print(\"Total Null Data:\",data.isnull().sum())"
      ],
      "metadata": {
        "colab": {
          "base_uri": "https://localhost:8080/"
        },
        "id": "TUEgb1L7z3J7",
        "outputId": "bb734a46-6b68-42ba-b217-f71416df0576"
      },
      "execution_count": null,
      "outputs": [
        {
          "output_type": "stream",
          "name": "stdout",
          "text": [
            "Total Null Data: Id               0\n",
            "SepalLengthCm    0\n",
            "SepalWidthCm     0\n",
            "PetalLengthCm    0\n",
            "PetalWidthCm     0\n",
            "Species          0\n",
            "dtype: int64\n"
          ]
        }
      ]
    },
    {
      "cell_type": "code",
      "source": [
        "#In the dataframe, under the variable gear count total records in each value\n",
        "df=pd.DataFrame(data,columns=['gear'])\n",
        "print(\"Count How many values:\\n\",df['gear'].value_counts())"
      ],
      "metadata": {
        "colab": {
          "base_uri": "https://localhost:8080/"
        },
        "id": "kXaLE8bj0mA4",
        "outputId": "13125c4b-8005-4cde-8f91-94fece4efa20"
      },
      "execution_count": null,
      "outputs": [
        {
          "output_type": "stream",
          "name": "stdout",
          "text": [
            "Count How many values:\n",
            " Series([], Name: gear, dtype: int64)\n"
          ]
        }
      ]
    },
    {
      "cell_type": "code",
      "source": [
        "data.values"
      ],
      "metadata": {
        "colab": {
          "base_uri": "https://localhost:8080/"
        },
        "id": "4h4B0NqA0qJ4",
        "outputId": "bceea3c4-809e-45d9-c9e6-ae3d63bea517"
      },
      "execution_count": null,
      "outputs": [
        {
          "output_type": "execute_result",
          "data": {
            "text/plain": [
              "array([[1, 5.1, 3.5, 1.4, 0.2, 'Iris-setosa'],\n",
              "       [2, 4.9, 3.0, 1.4, 0.2, 'Iris-setosa'],\n",
              "       [3, 4.7, 3.2, 1.3, 0.2, 'Iris-setosa'],\n",
              "       [4, 4.6, 3.1, 1.5, 0.2, 'Iris-setosa'],\n",
              "       [5, 5.0, 3.6, 1.4, 0.2, 'Iris-setosa'],\n",
              "       [6, 5.4, 3.9, 1.7, 0.4, 'Iris-setosa'],\n",
              "       [7, 4.6, 3.4, 1.4, 0.3, 'Iris-setosa'],\n",
              "       [8, 5.0, 3.4, 1.5, 0.2, 'Iris-setosa'],\n",
              "       [9, 4.4, 2.9, 1.4, 0.2, 'Iris-setosa'],\n",
              "       [10, 4.9, 3.1, 1.5, 0.1, 'Iris-setosa'],\n",
              "       [11, 5.4, 3.7, 1.5, 0.2, 'Iris-setosa'],\n",
              "       [12, 4.8, 3.4, 1.6, 0.2, 'Iris-setosa'],\n",
              "       [13, 4.8, 3.0, 1.4, 0.1, 'Iris-setosa'],\n",
              "       [14, 4.3, 3.0, 1.1, 0.1, 'Iris-setosa'],\n",
              "       [15, 5.8, 4.0, 1.2, 0.2, 'Iris-setosa'],\n",
              "       [16, 5.7, 4.4, 1.5, 0.4, 'Iris-setosa'],\n",
              "       [17, 5.4, 3.9, 1.3, 0.4, 'Iris-setosa'],\n",
              "       [18, 5.1, 3.5, 1.4, 0.3, 'Iris-setosa'],\n",
              "       [19, 5.7, 3.8, 1.7, 0.3, 'Iris-setosa'],\n",
              "       [20, 5.1, 3.8, 1.5, 0.3, 'Iris-setosa'],\n",
              "       [21, 5.4, 3.4, 1.7, 0.2, 'Iris-setosa'],\n",
              "       [22, 5.1, 3.7, 1.5, 0.4, 'Iris-setosa'],\n",
              "       [23, 4.6, 3.6, 1.0, 0.2, 'Iris-setosa'],\n",
              "       [24, 5.1, 3.3, 1.7, 0.5, 'Iris-setosa'],\n",
              "       [25, 4.8, 3.4, 1.9, 0.2, 'Iris-setosa'],\n",
              "       [26, 5.0, 3.0, 1.6, 0.2, 'Iris-setosa'],\n",
              "       [27, 5.0, 3.4, 1.6, 0.4, 'Iris-setosa'],\n",
              "       [28, 5.2, 3.5, 1.5, 0.2, 'Iris-setosa'],\n",
              "       [29, 5.2, 3.4, 1.4, 0.2, 'Iris-setosa'],\n",
              "       [30, 4.7, 3.2, 1.6, 0.2, 'Iris-setosa'],\n",
              "       [31, 4.8, 3.1, 1.6, 0.2, 'Iris-setosa'],\n",
              "       [32, 5.4, 3.4, 1.5, 0.4, 'Iris-setosa'],\n",
              "       [33, 5.2, 4.1, 1.5, 0.1, 'Iris-setosa'],\n",
              "       [34, 5.5, 4.2, 1.4, 0.2, 'Iris-setosa'],\n",
              "       [35, 4.9, 3.1, 1.5, 0.1, 'Iris-setosa'],\n",
              "       [36, 5.0, 3.2, 1.2, 0.2, 'Iris-setosa'],\n",
              "       [37, 5.5, 3.5, 1.3, 0.2, 'Iris-setosa'],\n",
              "       [38, 4.9, 3.1, 1.5, 0.1, 'Iris-setosa'],\n",
              "       [39, 4.4, 3.0, 1.3, 0.2, 'Iris-setosa'],\n",
              "       [40, 5.1, 3.4, 1.5, 0.2, 'Iris-setosa'],\n",
              "       [41, 5.0, 3.5, 1.3, 0.3, 'Iris-setosa'],\n",
              "       [42, 4.5, 2.3, 1.3, 0.3, 'Iris-setosa'],\n",
              "       [43, 4.4, 3.2, 1.3, 0.2, 'Iris-setosa'],\n",
              "       [44, 5.0, 3.5, 1.6, 0.6, 'Iris-setosa'],\n",
              "       [45, 5.1, 3.8, 1.9, 0.4, 'Iris-setosa'],\n",
              "       [46, 4.8, 3.0, 1.4, 0.3, 'Iris-setosa'],\n",
              "       [47, 5.1, 3.8, 1.6, 0.2, 'Iris-setosa'],\n",
              "       [48, 4.6, 3.2, 1.4, 0.2, 'Iris-setosa'],\n",
              "       [49, 5.3, 3.7, 1.5, 0.2, 'Iris-setosa'],\n",
              "       [50, 5.0, 3.3, 1.4, 0.2, 'Iris-setosa'],\n",
              "       [51, 7.0, 3.2, 4.7, 1.4, 'Iris-versicolor'],\n",
              "       [52, 6.4, 3.2, 4.5, 1.5, 'Iris-versicolor'],\n",
              "       [53, 6.9, 3.1, 4.9, 1.5, 'Iris-versicolor'],\n",
              "       [54, 5.5, 2.3, 4.0, 1.3, 'Iris-versicolor'],\n",
              "       [55, 6.5, 2.8, 4.6, 1.5, 'Iris-versicolor'],\n",
              "       [56, 5.7, 2.8, 4.5, 1.3, 'Iris-versicolor'],\n",
              "       [57, 6.3, 3.3, 4.7, 1.6, 'Iris-versicolor'],\n",
              "       [58, 4.9, 2.4, 3.3, 1.0, 'Iris-versicolor'],\n",
              "       [59, 6.6, 2.9, 4.6, 1.3, 'Iris-versicolor'],\n",
              "       [60, 5.2, 2.7, 3.9, 1.4, 'Iris-versicolor'],\n",
              "       [61, 5.0, 2.0, 3.5, 1.0, 'Iris-versicolor'],\n",
              "       [62, 5.9, 3.0, 4.2, 1.5, 'Iris-versicolor'],\n",
              "       [63, 6.0, 2.2, 4.0, 1.0, 'Iris-versicolor'],\n",
              "       [64, 6.1, 2.9, 4.7, 1.4, 'Iris-versicolor'],\n",
              "       [65, 5.6, 2.9, 3.6, 1.3, 'Iris-versicolor'],\n",
              "       [66, 6.7, 3.1, 4.4, 1.4, 'Iris-versicolor'],\n",
              "       [67, 5.6, 3.0, 4.5, 1.5, 'Iris-versicolor'],\n",
              "       [68, 5.8, 2.7, 4.1, 1.0, 'Iris-versicolor'],\n",
              "       [69, 6.2, 2.2, 4.5, 1.5, 'Iris-versicolor'],\n",
              "       [70, 5.6, 2.5, 3.9, 1.1, 'Iris-versicolor'],\n",
              "       [71, 5.9, 3.2, 4.8, 1.8, 'Iris-versicolor'],\n",
              "       [72, 6.1, 2.8, 4.0, 1.3, 'Iris-versicolor'],\n",
              "       [73, 6.3, 2.5, 4.9, 1.5, 'Iris-versicolor'],\n",
              "       [74, 6.1, 2.8, 4.7, 1.2, 'Iris-versicolor'],\n",
              "       [75, 6.4, 2.9, 4.3, 1.3, 'Iris-versicolor'],\n",
              "       [76, 6.6, 3.0, 4.4, 1.4, 'Iris-versicolor'],\n",
              "       [77, 6.8, 2.8, 4.8, 1.4, 'Iris-versicolor'],\n",
              "       [78, 6.7, 3.0, 5.0, 1.7, 'Iris-versicolor'],\n",
              "       [79, 6.0, 2.9, 4.5, 1.5, 'Iris-versicolor'],\n",
              "       [80, 5.7, 2.6, 3.5, 1.0, 'Iris-versicolor'],\n",
              "       [81, 5.5, 2.4, 3.8, 1.1, 'Iris-versicolor'],\n",
              "       [82, 5.5, 2.4, 3.7, 1.0, 'Iris-versicolor'],\n",
              "       [83, 5.8, 2.7, 3.9, 1.2, 'Iris-versicolor'],\n",
              "       [84, 6.0, 2.7, 5.1, 1.6, 'Iris-versicolor'],\n",
              "       [85, 5.4, 3.0, 4.5, 1.5, 'Iris-versicolor'],\n",
              "       [86, 6.0, 3.4, 4.5, 1.6, 'Iris-versicolor'],\n",
              "       [87, 6.7, 3.1, 4.7, 1.5, 'Iris-versicolor'],\n",
              "       [88, 6.3, 2.3, 4.4, 1.3, 'Iris-versicolor'],\n",
              "       [89, 5.6, 3.0, 4.1, 1.3, 'Iris-versicolor'],\n",
              "       [90, 5.5, 2.5, 4.0, 1.3, 'Iris-versicolor'],\n",
              "       [91, 5.5, 2.6, 4.4, 1.2, 'Iris-versicolor'],\n",
              "       [92, 6.1, 3.0, 4.6, 1.4, 'Iris-versicolor'],\n",
              "       [93, 5.8, 2.6, 4.0, 1.2, 'Iris-versicolor'],\n",
              "       [94, 5.0, 2.3, 3.3, 1.0, 'Iris-versicolor'],\n",
              "       [95, 5.6, 2.7, 4.2, 1.3, 'Iris-versicolor'],\n",
              "       [96, 5.7, 3.0, 4.2, 1.2, 'Iris-versicolor'],\n",
              "       [97, 5.7, 2.9, 4.2, 1.3, 'Iris-versicolor'],\n",
              "       [98, 6.2, 2.9, 4.3, 1.3, 'Iris-versicolor'],\n",
              "       [99, 5.1, 2.5, 3.0, 1.1, 'Iris-versicolor'],\n",
              "       [100, 5.7, 2.8, 4.1, 1.3, 'Iris-versicolor'],\n",
              "       [101, 6.3, 3.3, 6.0, 2.5, 'Iris-virginica'],\n",
              "       [102, 5.8, 2.7, 5.1, 1.9, 'Iris-virginica'],\n",
              "       [103, 7.1, 3.0, 5.9, 2.1, 'Iris-virginica'],\n",
              "       [104, 6.3, 2.9, 5.6, 1.8, 'Iris-virginica'],\n",
              "       [105, 6.5, 3.0, 5.8, 2.2, 'Iris-virginica'],\n",
              "       [106, 7.6, 3.0, 6.6, 2.1, 'Iris-virginica'],\n",
              "       [107, 4.9, 2.5, 4.5, 1.7, 'Iris-virginica'],\n",
              "       [108, 7.3, 2.9, 6.3, 1.8, 'Iris-virginica'],\n",
              "       [109, 6.7, 2.5, 5.8, 1.8, 'Iris-virginica'],\n",
              "       [110, 7.2, 3.6, 6.1, 2.5, 'Iris-virginica'],\n",
              "       [111, 6.5, 3.2, 5.1, 2.0, 'Iris-virginica'],\n",
              "       [112, 6.4, 2.7, 5.3, 1.9, 'Iris-virginica'],\n",
              "       [113, 6.8, 3.0, 5.5, 2.1, 'Iris-virginica'],\n",
              "       [114, 5.7, 2.5, 5.0, 2.0, 'Iris-virginica'],\n",
              "       [115, 5.8, 2.8, 5.1, 2.4, 'Iris-virginica'],\n",
              "       [116, 6.4, 3.2, 5.3, 2.3, 'Iris-virginica'],\n",
              "       [117, 6.5, 3.0, 5.5, 1.8, 'Iris-virginica'],\n",
              "       [118, 7.7, 3.8, 6.7, 2.2, 'Iris-virginica'],\n",
              "       [119, 7.7, 2.6, 6.9, 2.3, 'Iris-virginica'],\n",
              "       [120, 6.0, 2.2, 5.0, 1.5, 'Iris-virginica'],\n",
              "       [121, 6.9, 3.2, 5.7, 2.3, 'Iris-virginica'],\n",
              "       [122, 5.6, 2.8, 4.9, 2.0, 'Iris-virginica'],\n",
              "       [123, 7.7, 2.8, 6.7, 2.0, 'Iris-virginica'],\n",
              "       [124, 6.3, 2.7, 4.9, 1.8, 'Iris-virginica'],\n",
              "       [125, 6.7, 3.3, 5.7, 2.1, 'Iris-virginica'],\n",
              "       [126, 7.2, 3.2, 6.0, 1.8, 'Iris-virginica'],\n",
              "       [127, 6.2, 2.8, 4.8, 1.8, 'Iris-virginica'],\n",
              "       [128, 6.1, 3.0, 4.9, 1.8, 'Iris-virginica'],\n",
              "       [129, 6.4, 2.8, 5.6, 2.1, 'Iris-virginica'],\n",
              "       [130, 7.2, 3.0, 5.8, 1.6, 'Iris-virginica'],\n",
              "       [131, 7.4, 2.8, 6.1, 1.9, 'Iris-virginica'],\n",
              "       [132, 7.9, 3.8, 6.4, 2.0, 'Iris-virginica'],\n",
              "       [133, 6.4, 2.8, 5.6, 2.2, 'Iris-virginica'],\n",
              "       [134, 6.3, 2.8, 5.1, 1.5, 'Iris-virginica'],\n",
              "       [135, 6.1, 2.6, 5.6, 1.4, 'Iris-virginica'],\n",
              "       [136, 7.7, 3.0, 6.1, 2.3, 'Iris-virginica'],\n",
              "       [137, 6.3, 3.4, 5.6, 2.4, 'Iris-virginica'],\n",
              "       [138, 6.4, 3.1, 5.5, 1.8, 'Iris-virginica'],\n",
              "       [139, 6.0, 3.0, 4.8, 1.8, 'Iris-virginica'],\n",
              "       [140, 6.9, 3.1, 5.4, 2.1, 'Iris-virginica'],\n",
              "       [141, 6.7, 3.1, 5.6, 2.4, 'Iris-virginica'],\n",
              "       [142, 6.9, 3.1, 5.1, 2.3, 'Iris-virginica'],\n",
              "       [143, 5.8, 2.7, 5.1, 1.9, 'Iris-virginica'],\n",
              "       [144, 6.8, 3.2, 5.9, 2.3, 'Iris-virginica'],\n",
              "       [145, 6.7, 3.3, 5.7, 2.5, 'Iris-virginica'],\n",
              "       [146, 6.7, 3.0, 5.2, 2.3, 'Iris-virginica'],\n",
              "       [147, 6.3, 2.5, 5.0, 1.9, 'Iris-virginica'],\n",
              "       [148, 6.5, 3.0, 5.2, 2.0, 'Iris-virginica'],\n",
              "       [149, 6.2, 3.4, 5.4, 2.3, 'Iris-virginica'],\n",
              "       [150, 5.9, 3.0, 5.1, 1.8, 'Iris-virginica']], dtype=object)"
            ]
          },
          "metadata": {},
          "execution_count": 32
        }
      ]
    },
    {
      "cell_type": "code",
      "source": [
        "#2 Draw Histogram of SepalLengthCm with proper labelling.\n",
        "plt.hist(data['SepalLengthCm'],bins=5,label=str)\n"
      ],
      "metadata": {
        "id": "ckwcdyy9Q5gd",
        "colab": {
          "base_uri": "https://localhost:8080/",
          "height": 317
        },
        "outputId": "b91ddcff-814a-439d-bcfb-1b118f0d18e5"
      },
      "execution_count": 6,
      "outputs": [
        {
          "output_type": "execute_result",
          "data": {
            "text/plain": [
              "(array([32., 41., 42., 24., 11.]),\n",
              " array([4.3 , 5.02, 5.74, 6.46, 7.18, 7.9 ]),\n",
              " <a list of 5 Patch objects>)"
            ]
          },
          "metadata": {},
          "execution_count": 6
        },
        {
          "output_type": "display_data",
          "data": {
            "image/png": "[encoded data removed]",
            "text/plain": [
              "<Figure size 432x288 with 1 Axes>"
            ]
          },
          "metadata": {
            "needs_background": "light"
          }
        }
      ]
    },
    {
      "cell_type": "code",
      "source": [
        "#Plot bar chart of Species\n",
        "import numpy as np\n",
        "import matplotlib.pyplot as plt\n",
        "plt.bar(data['PetalLengthCm'],height=1)\n"
      ],
      "metadata": {
        "id": "pNPNOsSQQ6n1",
        "colab": {
          "base_uri": "https://localhost:8080/",
          "height": 283
        },
        "outputId": "922c072a-6370-4ebb-a1ad-9b6825f2d9d5"
      },
      "execution_count": 7,
      "outputs": [
        {
          "output_type": "execute_result",
          "data": {
            "text/plain": [
              "<BarContainer object of 150 artists>"
            ]
          },
          "metadata": {},
          "execution_count": 7
        },
        {
          "output_type": "display_data",
          "data": {
            "image/png": "[encoded data removed]",
            "text/plain": [
              "<Figure size 432x288 with 1 Axes>"
            ]
          },
          "metadata": {
            "needs_background": "light"
          }
        }
      ]
    },
    {
      "cell_type": "code",
      "source": [
        "#Count total null values for each column in this dataset\n",
        "iris_col_arr = ['SepalLengthCm','SepalWidthCm','PetalWidthCm','Species']\n",
        "for i in range(4):\n",
        "  print(\"The null value for column \",iris_col_arr[i],\" is \",data[iris_col_arr[i]].isnull().sum())\n",
        "print('\\n')"
      ],
      "metadata": {
        "id": "Enraf2WUQ7ft",
        "colab": {
          "base_uri": "https://localhost:8080/"
        },
        "outputId": "50b1ffa4-80a4-4a67-905d-727fe8f29187"
      },
      "execution_count": 8,
      "outputs": [
        {
          "output_type": "stream",
          "name": "stdout",
          "text": [
            "The null value for column  SepalLengthCm  is  0\n",
            "The null value for column  SepalWidthCm  is  0\n",
            "The null value for column  PetalWidthCm  is  0\n",
            "The null value for column  Species  is  0\n",
            "\n",
            "\n"
          ]
        }
      ]
    },
    {
      "cell_type": "code",
      "source": [
        "#1) Print first 5 rows of SepalLengthCm.\n",
        "display(data.SepalLengthCm[1 : 6])"
      ],
      "metadata": {
        "id": "Q-J66qv6RIN9",
        "colab": {
          "base_uri": "https://localhost:8080/",
          "height": 121
        },
        "outputId": "a50d2e17-4207-421d-dd7d-276b77719149"
      },
      "execution_count": null,
      "outputs": [
        {
          "output_type": "display_data",
          "data": {
            "text/plain": [
              "1    4.9\n",
              "2    4.7\n",
              "3    4.6\n",
              "4    5.0\n",
              "5    5.4\n",
              "Name: SepalLengthCm, dtype: float64"
            ]
          },
          "metadata": {}
        }
      ]
    },
    {
      "cell_type": "code",
      "source": [
        "#2) Print from 5th row and onwards and entire column of Iris.csv dataset.\n",
        "display(data.iloc[5:,1:5])"
      ],
      "metadata": {
        "colab": {
          "base_uri": "https://localhost:8080/",
          "height": 423
        },
        "id": "Rcm4SHNgg8O4",
        "outputId": "f3180ff2-8f2e-41cf-a58e-bb096f9d9f38"
      },
      "execution_count": 9,
      "outputs": [
        {
          "output_type": "display_data",
          "data": {
            "text/html": [
              "<div>\n",
              "<style scoped>\n",
              "    .dataframe tbody tr th:only-of-type {\n",
              "        vertical-align: middle;\n",
              "    }\n",
              "\n",
              "    .dataframe tbody tr th {\n",
              "        vertical-align: top;\n",
              "    }\n",
              "\n",
              "    .dataframe thead th {\n",
              "        text-align: right;\n",
              "    }\n",
              "</style>\n",
              "<table border=\"1\" class=\"dataframe\">\n",
              "  <thead>\n",
              "    <tr style=\"text-align: right;\">\n",
              "      <th></th>\n",
              "      <th>SepalLengthCm</th>\n",
              "      <th>SepalWidthCm</th>\n",
              "      <th>PetalLengthCm</th>\n",
              "      <th>PetalWidthCm</th>\n",
              "    </tr>\n",
              "  </thead>\n",
              "  <tbody>\n",
              "    <tr>\n",
              "      <th>5</th>\n",
              "      <td>5.4</td>\n",
              "      <td>3.9</td>\n",
              "      <td>1.7</td>\n",
              "      <td>0.4</td>\n",
              "    </tr>\n",
              "    <tr>\n",
              "      <th>6</th>\n",
              "      <td>4.6</td>\n",
              "      <td>3.4</td>\n",
              "      <td>1.4</td>\n",
              "      <td>0.3</td>\n",
              "    </tr>\n",
              "    <tr>\n",
              "      <th>7</th>\n",
              "      <td>5.0</td>\n",
              "      <td>3.4</td>\n",
              "      <td>1.5</td>\n",
              "      <td>0.2</td>\n",
              "    </tr>\n",
              "    <tr>\n",
              "      <th>8</th>\n",
              "      <td>4.4</td>\n",
              "      <td>2.9</td>\n",
              "      <td>1.4</td>\n",
              "      <td>0.2</td>\n",
              "    </tr>\n",
              "    <tr>\n",
              "      <th>9</th>\n",
              "      <td>4.9</td>\n",
              "      <td>3.1</td>\n",
              "      <td>1.5</td>\n",
              "      <td>0.1</td>\n",
              "    </tr>\n",
              "    <tr>\n",
              "      <th>...</th>\n",
              "      <td>...</td>\n",
              "      <td>...</td>\n",
              "      <td>...</td>\n",
              "      <td>...</td>\n",
              "    </tr>\n",
              "    <tr>\n",
              "      <th>145</th>\n",
              "      <td>6.7</td>\n",
              "      <td>3.0</td>\n",
              "      <td>5.2</td>\n",
              "      <td>2.3</td>\n",
              "    </tr>\n",
              "    <tr>\n",
              "      <th>146</th>\n",
              "      <td>6.3</td>\n",
              "      <td>2.5</td>\n",
              "      <td>5.0</td>\n",
              "      <td>1.9</td>\n",
              "    </tr>\n",
              "    <tr>\n",
              "      <th>147</th>\n",
              "      <td>6.5</td>\n",
              "      <td>3.0</td>\n",
              "      <td>5.2</td>\n",
              "      <td>2.0</td>\n",
              "    </tr>\n",
              "    <tr>\n",
              "      <th>148</th>\n",
              "      <td>6.2</td>\n",
              "      <td>3.4</td>\n",
              "      <td>5.4</td>\n",
              "      <td>2.3</td>\n",
              "    </tr>\n",
              "    <tr>\n",
              "      <th>149</th>\n",
              "      <td>5.9</td>\n",
              "      <td>3.0</td>\n",
              "      <td>5.1</td>\n",
              "      <td>1.8</td>\n",
              "    </tr>\n",
              "  </tbody>\n",
              "</table>\n",
              "<p>145 rows × 4 columns</p>\n",
              "</div>"
            ],
            "text/plain": [
              "     SepalLengthCm  SepalWidthCm  PetalLengthCm  PetalWidthCm\n",
              "5              5.4           3.9            1.7           0.4\n",
              "6              4.6           3.4            1.4           0.3\n",
              "7              5.0           3.4            1.5           0.2\n",
              "8              4.4           2.9            1.4           0.2\n",
              "9              4.9           3.1            1.5           0.1\n",
              "..             ...           ...            ...           ...\n",
              "145            6.7           3.0            5.2           2.3\n",
              "146            6.3           2.5            5.0           1.9\n",
              "147            6.5           3.0            5.2           2.0\n",
              "148            6.2           3.4            5.4           2.3\n",
              "149            5.9           3.0            5.1           1.8\n",
              "\n",
              "[145 rows x 4 columns]"
            ]
          },
          "metadata": {}
        }
      ]
    },
    {
      "cell_type": "markdown",
      "source": [
        "# **SKlearn**"
      ],
      "metadata": {
        "id": "zL8WyxsbRUZN"
      }
    },
    {
      "cell_type": "code",
      "source": [
        "#Perform the above steps on any other dataset available in Sklearn library.\n",
        "iris = datasets.load_iris()"
      ],
      "metadata": {
        "id": "MuPvfc8vRZU9"
      },
      "execution_count": null,
      "outputs": []
    },
    {
      "cell_type": "code",
      "source": [
        "X = iris.data\n",
        "y= iris.target\n",
        "\n",
        "feature_names = iris.feature_names\n",
        "target_names = iris.target_names\n",
        "print(\"Feature names:\", feature_names)\n",
        "print(\"Target names:\", target_names)\n",
        "print(\"\\nFirst 10 rows of X:\\n\", X[:10])"
      ],
      "metadata": {
        "colab": {
          "base_uri": "https://localhost:8080/"
        },
        "id": "UTIVs3Yk1S8Y",
        "outputId": "c3cc89d1-b023-4842-ed10-235f284a0c37"
      },
      "execution_count": null,
      "outputs": [
        {
          "output_type": "stream",
          "name": "stdout",
          "text": [
            "Feature names: ['sepal length (cm)', 'sepal width (cm)', 'petal length (cm)', 'petal width (cm)']\n",
            "Target names: ['setosa' 'versicolor' 'virginica']\n",
            "\n",
            "First 10 rows of X:\n",
            " [[5.1 3.5 1.4 0.2]\n",
            " [4.9 3.  1.4 0.2]\n",
            " [4.7 3.2 1.3 0.2]\n",
            " [4.6 3.1 1.5 0.2]\n",
            " [5.  3.6 1.4 0.2]\n",
            " [5.4 3.9 1.7 0.4]\n",
            " [4.6 3.4 1.4 0.3]\n",
            " [5.  3.4 1.5 0.2]\n",
            " [4.4 2.9 1.4 0.2]\n",
            " [4.9 3.1 1.5 0.1]]\n"
          ]
        }
      ]
    },
    {
      "cell_type": "code",
      "source": [
        "from sklearn.model_selection import train_test_split"
      ],
      "metadata": {
        "id": "grOwuPGi1Vbi"
      },
      "execution_count": null,
      "outputs": []
    },
    {
      "cell_type": "code",
      "source": [
        "X_train, X_test, y_train, y_test = train_test_split(\n",
        "   X, y, test_size = 0.4, random_state=1\n",
        ")"
      ],
      "metadata": {
        "id": "PR--VYot1Zs1"
      },
      "execution_count": null,
      "outputs": []
    },
    {
      "cell_type": "markdown",
      "source": [
        "# **NLTK**"
      ],
      "metadata": {
        "id": "Ix7WTL3tRtY2"
      }
    },
    {
      "cell_type": "code",
      "source": [
        "#Perform all of the above preprocessing tasks on any other text dataset\n",
        "import nltk\n",
        "from nltk.corpus import twitter_samples\n",
        "import matplotlib.pyplot as plt\n",
        "import random\n",
        "import re  # library for regular expression operations\n",
        "import string  # for string operations\n",
        "from nltk.corpus import stopwords  # module for stop words that come with NLTK\n",
        "from nltk.stem import PorterStemmer  # module for stemming\n",
        "from nltk.tokenize import TweetTokenizer  # module for tokenizing strings\n",
        "\n",
        "nltk.download(\"twitter_samples\")\n",
        "\n",
        "allPositiveTweets = twitter_samples.strings(\"positive_tweets.json\")\n",
        "allNegativeTweets = twitter_samples.strings(\"negative_tweets.json\")\n",
        "\n",
        "print(\"Number of Positive Tweets\", len(allPositiveTweets))\n",
        "print(\"Number of Negative Tweets\", len(allNegativeTweets))\n",
        "\n",
        "print('\\nThe type of all_positive_tweets is: ', type(allPositiveTweets))\n",
        "print('The type of a tweet entry is: ', type(allNegativeTweets[0]))\n",
        "\n",
        "\n",
        "# print positive in green\n",
        "print('\\033[92m' + allPositiveTweets[random.randint(0, 5000)])\n",
        "# print negative in red\n",
        "print('\\033[91m' + allNegativeTweets[random.randint(0, 5000)])\n",
        "tweet = allPositiveTweets[2277]\n",
        "print(tweet)\n",
        "\n",
        "# download the stopwords from NLTK\n",
        "nltk.download('stopwords')\n",
        "print('\\033[92m' + tweet)\n",
        "print('\\033[94m')\n",
        "# remove hyperlinks\n",
        "tweet2 = re.sub(r'https?:\\/\\/.*[\\r\\n]*', '', tweet)\n",
        "# remove hashtags\n",
        "# only removing the hash # sign from the word\n",
        "tweet2 = re.sub(r'#', '', tweet2)\n",
        "print(tweet2)\n",
        "\n",
        "print()\n",
        "print('\\033[92m' + tweet2)\n",
        "print('\\033[94m')\n",
        "# instantiate tokenizer class\n",
        "tokenizer = TweetTokenizer(preserve_case=False)\n",
        "# tokenize tweets\n",
        "tweet_tokens = tokenizer.tokenize(tweet2)\n",
        "print()\n",
        "print('Tokenized string:')\n",
        "print(tweet_tokens)\n",
        "\n",
        "# Import the english stop words list from NLTK\n",
        "stopwords_english = stopwords.words('english')\n",
        "print('Stop words\\n')\n",
        "print(stopwords_english)\n",
        "print('\\nPunctuation\\n')\n",
        "print(string.punctuation)\n",
        "\n",
        "print()\n",
        "print('\\033[92m')\n",
        "print(tweet_tokens)\n",
        "print('\\033[94m')\n",
        "tweets_clean = []\n",
        "for word in tweet_tokens:  # Go through every word in your tokens list\n",
        "    if (word not in stopwords_english and  # remove stopwords\n",
        "            word not in string.punctuation):  # remove punctuation\n",
        "        tweets_clean.append(word)\n",
        "print('removed stop words and punctuation:')\n",
        "print(tweets_clean)\n",
        "\n",
        "print()\n",
        "print('\\033[92m')\n",
        "print(tweets_clean)\n",
        "print('\\033[94m')\n",
        "# Instantiate stemming class\n",
        "stemmer = PorterStemmer()\n",
        "# Create an empty list to store the stems\n",
        "tweets_stem = []\n",
        "for word in tweets_clean:\n",
        "    stem_word = stemmer.stem(word)  # stemming word\n",
        "    tweets_stem.append(stem_word)  # append to the list\n",
        "print('stemmed words:')\n",
        "print(tweets_stem)"
      ],
      "metadata": {
        "id": "9PAOuGgMRwZV",
        "colab": {
          "base_uri": "https://localhost:8080/"
        },
        "outputId": "ab331c23-9441-4a99-a284-f9a3a8aa7d4e"
      },
      "execution_count": 1,
      "outputs": [
        {
          "output_type": "stream",
          "name": "stdout",
          "text": [
            "[nltk_data] Downloading package twitter_samples to /root/nltk_data...\n",
            "[nltk_data]   Unzipping corpora/twitter_samples.zip.\n",
            "Number of Positive Tweets 5000\n",
            "Number of Negative Tweets 5000\n",
            "\n",
            "The type of all_positive_tweets is:  <class 'list'>\n",
            "The type of a tweet entry is:  <class 'str'>\n",
            "\u001b[92m@amcyoung @peasbloss \n",
            "Ah, S'okay Andy!\n",
            "Thank you-and yours! :)\n",
            "\u001b[91m@KristyBookNerd Uh huh :( Two times, because I'm super clever like that\n",
            "My beautiful sunflowers on a sunny Friday morning off :) #sunflowers #favourites #happy #Friday off… https://t.co/3tfYom0N1i\n",
            "[nltk_data] Downloading package stopwords to /root/nltk_data...\n",
            "[nltk_data]   Unzipping corpora/stopwords.zip.\n",
            "\u001b[92mMy beautiful sunflowers on a sunny Friday morning off :) #sunflowers #favourites #happy #Friday off… https://t.co/3tfYom0N1i\n",
            "\u001b[94m\n",
            "My beautiful sunflowers on a sunny Friday morning off :) sunflowers favourites happy Friday off… \n",
            "\n",
            "\u001b[92mMy beautiful sunflowers on a sunny Friday morning off :) sunflowers favourites happy Friday off… \n",
            "\u001b[94m\n",
            "\n",
            "Tokenized string:\n",
            "['my', 'beautiful', 'sunflowers', 'on', 'a', 'sunny', 'friday', 'morning', 'off', ':)', 'sunflowers', 'favourites', 'happy', 'friday', 'off', '…']\n",
            "Stop words\n",
            "\n",
            "['i', 'me', 'my', 'myself', 'we', 'our', 'ours', 'ourselves', 'you', \"you're\", \"you've\", \"you'll\", \"you'd\", 'your', 'yours', 'yourself', 'yourselves', 'he', 'him', 'his', 'himself', 'she', \"she's\", 'her', 'hers', 'herself', 'it', \"it's\", 'its', 'itself', 'they', 'them', 'their', 'theirs', 'themselves', 'what', 'which', 'who', 'whom', 'this', 'that', \"that'll\", 'these', 'those', 'am', 'is', 'are', 'was', 'were', 'be', 'been', 'being', 'have', 'has', 'had', 'having', 'do', 'does', 'did', 'doing', 'a', 'an', 'the', 'and', 'but', 'if', 'or', 'because', 'as', 'until', 'while', 'of', 'at', 'by', 'for', 'with', 'about', 'against', 'between', 'into', 'through', 'during', 'before', 'after', 'above', 'below', 'to', 'from', 'up', 'down', 'in', 'out', 'on', 'off', 'over', 'under', 'again', 'further', 'then', 'once', 'here', 'there', 'when', 'where', 'why', 'how', 'all', 'any', 'both', 'each', 'few', 'more', 'most', 'other', 'some', 'such', 'no', 'nor', 'not', 'only', 'own', 'same', 'so', 'than', 'too', 'very', 's', 't', 'can', 'will', 'just', 'don', \"don't\", 'should', \"should've\", 'now', 'd', 'll', 'm', 'o', 're', 've', 'y', 'ain', 'aren', \"aren't\", 'couldn', \"couldn't\", 'didn', \"didn't\", 'doesn', \"doesn't\", 'hadn', \"hadn't\", 'hasn', \"hasn't\", 'haven', \"haven't\", 'isn', \"isn't\", 'ma', 'mightn', \"mightn't\", 'mustn', \"mustn't\", 'needn', \"needn't\", 'shan', \"shan't\", 'shouldn', \"shouldn't\", 'wasn', \"wasn't\", 'weren', \"weren't\", 'won', \"won't\", 'wouldn', \"wouldn't\"]\n",
            "\n",
            "Punctuation\n",
            "\n",
            "!\"#$%&'()*+,-./:;<=>?@[\\]^_`{|}~\n",
            "\n",
            "\u001b[92m\n",
            "['my', 'beautiful', 'sunflowers', 'on', 'a', 'sunny', 'friday', 'morning', 'off', ':)', 'sunflowers', 'favourites', 'happy', 'friday', 'off', '…']\n",
            "\u001b[94m\n",
            "removed stop words and punctuation:\n",
            "['beautiful', 'sunflowers', 'sunny', 'friday', 'morning', ':)', 'sunflowers', 'favourites', 'happy', 'friday', '…']\n",
            "\n",
            "\u001b[92m\n",
            "['beautiful', 'sunflowers', 'sunny', 'friday', 'morning', ':)', 'sunflowers', 'favourites', 'happy', 'friday', '…']\n",
            "\u001b[94m\n",
            "stemmed words:\n",
            "['beauti', 'sunflow', 'sunni', 'friday', 'morn', ':)', 'sunflow', 'favourit', 'happi', 'friday', '…']\n"
          ]
        }
      ]
    }
  ]
}